{
 "cells": [
  {
   "cell_type": "code",
   "execution_count": null,
   "id": "9127ced9",
   "metadata": {
    "papermill": {
     "duration": 0.016158,
     "end_time": "2023-06-13T23:27:16.923402",
     "exception": false,
     "start_time": "2023-06-13T23:27:16.907244",
     "status": "completed"
    },
    "tags": []
   },
   "outputs": [],
   "source": []
  },
  {
   "cell_type": "markdown",
   "id": "c084533b",
   "metadata": {
    "papermill": {
     "duration": 0.016013,
     "end_time": "2023-06-13T23:27:16.955201",
     "exception": false,
     "start_time": "2023-06-13T23:27:16.939188",
     "status": "completed"
    },
    "tags": []
   },
   "source": [
    "# Business Problem\n",
    "- In order for the company to plan for the medium to long term, it is necessary to estimate the potential value that existing customers will provide to the company in the future."
   ]
  },
  {
   "cell_type": "markdown",
   "id": "73d179b7",
   "metadata": {
    "papermill": {
     "duration": 0.015003,
     "end_time": "2023-06-13T23:27:16.986237",
     "exception": false,
     "start_time": "2023-06-13T23:27:16.971234",
     "status": "completed"
    },
    "tags": []
   },
   "source": [
    "# Data Story\n",
    "- The dataset has information on 100,000 orders made from 2016 to 2018 across multiple marketplaces in Brazil. \n",
    "- Its features allow viewing an order from multiple dimensions: from order status, price, payment and freight performance, to customer location, product attributes. \n",
    "- The dataset consists of information derived from customers' past shopping behavior.\n",
    "\n",
    "- **Customer data set:** 117601 observations, 3 variables\n",
    "\n",
    "- **order_id:** Order number\n",
    "- **customer_id:** Customer number\n",
    "- **payment_value:** Total price paid by the customer\n",
    "\n",
    "- **Order data set:** 99441 observations, 2 variables\n",
    "\n",
    "- **order_id:** Order number\n",
    "- **order_purchase_timestamp:** Date of customer purchase"
   ]
  },
  {
   "cell_type": "code",
   "execution_count": 1,
   "id": "a85a08fc",
   "metadata": {
    "execution": {
     "iopub.execute_input": "2023-06-13T23:27:17.025118Z",
     "iopub.status.busy": "2023-06-13T23:27:17.023530Z",
     "iopub.status.idle": "2023-06-13T23:27:33.094988Z",
     "shell.execute_reply": "2023-06-13T23:27:33.093606Z"
    },
    "papermill": {
     "duration": 16.094544,
     "end_time": "2023-06-13T23:27:33.098210",
     "exception": false,
     "start_time": "2023-06-13T23:27:17.003666",
     "status": "completed"
    },
    "tags": []
   },
   "outputs": [
    {
     "name": "stdout",
     "output_type": "stream",
     "text": [
      "Collecting lifetimes\r\n",
      "  Downloading Lifetimes-0.11.3-py3-none-any.whl (584 kB)\r\n",
      "\u001b[2K     \u001b[90m━━━━━━━━━━━━━━━━━━━━━━━━━━━━━━━━━━━━━━\u001b[0m \u001b[32m584.2/584.2 kB\u001b[0m \u001b[31m15.2 MB/s\u001b[0m eta \u001b[36m0:00:00\u001b[0m\r\n",
      "\u001b[?25hRequirement already satisfied: numpy>=1.10.0 in /opt/conda/lib/python3.10/site-packages (from lifetimes) (1.23.5)\r\n",
      "Requirement already satisfied: scipy>=1.0.0 in /opt/conda/lib/python3.10/site-packages (from lifetimes) (1.10.1)\r\n",
      "Requirement already satisfied: pandas>=0.24.0 in /opt/conda/lib/python3.10/site-packages (from lifetimes) (1.5.3)\r\n",
      "Collecting autograd>=1.2.0 (from lifetimes)\r\n",
      "  Downloading autograd-1.5-py3-none-any.whl (48 kB)\r\n",
      "\u001b[2K     \u001b[90m━━━━━━━━━━━━━━━━━━━━━━━━━━━━━━━━━━━━━━━━\u001b[0m \u001b[32m48.9/48.9 kB\u001b[0m \u001b[31m3.7 MB/s\u001b[0m eta \u001b[36m0:00:00\u001b[0m\r\n",
      "\u001b[?25hRequirement already satisfied: dill>=0.2.6 in /opt/conda/lib/python3.10/site-packages (from lifetimes) (0.3.6)\r\n",
      "Requirement already satisfied: future>=0.15.2 in /opt/conda/lib/python3.10/site-packages (from autograd>=1.2.0->lifetimes) (0.18.3)\r\n",
      "Requirement already satisfied: python-dateutil>=2.8.1 in /opt/conda/lib/python3.10/site-packages (from pandas>=0.24.0->lifetimes) (2.8.2)\r\n",
      "Requirement already satisfied: pytz>=2020.1 in /opt/conda/lib/python3.10/site-packages (from pandas>=0.24.0->lifetimes) (2023.3)\r\n",
      "Requirement already satisfied: six>=1.5 in /opt/conda/lib/python3.10/site-packages (from python-dateutil>=2.8.1->pandas>=0.24.0->lifetimes) (1.16.0)\r\n",
      "Installing collected packages: autograd, lifetimes\r\n",
      "Successfully installed autograd-1.5 lifetimes-0.11.3\r\n",
      "\u001b[33mWARNING: Running pip as the 'root' user can result in broken permissions and conflicting behaviour with the system package manager. It is recommended to use a virtual environment instead: https://pip.pypa.io/warnings/venv\u001b[0m\u001b[33m\r\n",
      "\u001b[0m"
     ]
    }
   ],
   "source": [
    "!pip install lifetimes"
   ]
  },
  {
   "cell_type": "code",
   "execution_count": 2,
   "id": "0eff990a",
   "metadata": {
    "execution": {
     "iopub.execute_input": "2023-06-13T23:27:33.136827Z",
     "iopub.status.busy": "2023-06-13T23:27:33.135854Z",
     "iopub.status.idle": "2023-06-13T23:27:35.786418Z",
     "shell.execute_reply": "2023-06-13T23:27:35.785032Z"
    },
    "papermill": {
     "duration": 2.672403,
     "end_time": "2023-06-13T23:27:35.789541",
     "exception": false,
     "start_time": "2023-06-13T23:27:33.117138",
     "status": "completed"
    },
    "tags": []
   },
   "outputs": [],
   "source": [
    "# import Required Libraries\n",
    "\n",
    "import pandas as pd\n",
    "import numpy as np\n",
    "import seaborn as sns\n",
    "import datetime as dt\n",
    "\n",
    "import matplotlib.pyplot as plt\n",
    "import plotly.express as px\n",
    "import warnings\n",
    "\n",
    "from lifetimes import BetaGeoFitter\n",
    "from lifetimes import GammaGammaFitter\n",
    "from lifetimes.plotting import plot_period_transactions\n",
    "\n",
    "warnings.simplefilter(action=\"ignore\")"
   ]
  },
  {
   "cell_type": "code",
   "execution_count": 3,
   "id": "261ca7a3",
   "metadata": {
    "execution": {
     "iopub.execute_input": "2023-06-13T23:27:35.825724Z",
     "iopub.status.busy": "2023-06-13T23:27:35.824416Z",
     "iopub.status.idle": "2023-06-13T23:27:35.830595Z",
     "shell.execute_reply": "2023-06-13T23:27:35.829740Z"
    },
    "papermill": {
     "duration": 0.027214,
     "end_time": "2023-06-13T23:27:35.833226",
     "exception": false,
     "start_time": "2023-06-13T23:27:35.806012",
     "status": "completed"
    },
    "tags": []
   },
   "outputs": [],
   "source": [
    "# Adjusting Row Column Settings\n",
    "pd.set_option(\"display.max_rows\", None)\n",
    "pd.set_option(\"display.max_columns\", None)\n",
    "pd.set_option(\"display.float_format\", lambda x: '%.4f' % x)"
   ]
  },
  {
   "cell_type": "code",
   "execution_count": 4,
   "id": "5d440ed5",
   "metadata": {
    "execution": {
     "iopub.execute_input": "2023-06-13T23:27:35.868745Z",
     "iopub.status.busy": "2023-06-13T23:27:35.867670Z",
     "iopub.status.idle": "2023-06-13T23:27:36.397138Z",
     "shell.execute_reply": "2023-06-13T23:27:36.395555Z"
    },
    "papermill": {
     "duration": 0.551013,
     "end_time": "2023-06-13T23:27:36.400635",
     "exception": false,
     "start_time": "2023-06-13T23:27:35.849622",
     "status": "completed"
    },
    "tags": []
   },
   "outputs": [],
   "source": [
    "# Loading the Data Set\n",
    "df1 = pd.read_csv('/kaggle/input/dataset2/order.csv')\n",
    "df2 = pd.read_csv('/kaggle/input/dataset2/customer.csv')"
   ]
  },
  {
   "cell_type": "code",
   "execution_count": 5,
   "id": "4a087ce5",
   "metadata": {
    "execution": {
     "iopub.execute_input": "2023-06-13T23:27:36.436221Z",
     "iopub.status.busy": "2023-06-13T23:27:36.435706Z",
     "iopub.status.idle": "2023-06-13T23:27:36.468598Z",
     "shell.execute_reply": "2023-06-13T23:27:36.467106Z"
    },
    "papermill": {
     "duration": 0.054432,
     "end_time": "2023-06-13T23:27:36.471873",
     "exception": false,
     "start_time": "2023-06-13T23:27:36.417441",
     "status": "completed"
    },
    "tags": []
   },
   "outputs": [
    {
     "data": {
      "text/html": [
       "<div>\n",
       "<style scoped>\n",
       "    .dataframe tbody tr th:only-of-type {\n",
       "        vertical-align: middle;\n",
       "    }\n",
       "\n",
       "    .dataframe tbody tr th {\n",
       "        vertical-align: top;\n",
       "    }\n",
       "\n",
       "    .dataframe thead th {\n",
       "        text-align: right;\n",
       "    }\n",
       "</style>\n",
       "<table border=\"1\" class=\"dataframe\">\n",
       "  <thead>\n",
       "    <tr style=\"text-align: right;\">\n",
       "      <th></th>\n",
       "      <th>order_purchase_timestamp</th>\n",
       "      <th>order_id</th>\n",
       "    </tr>\n",
       "  </thead>\n",
       "  <tbody>\n",
       "    <tr>\n",
       "      <th>0</th>\n",
       "      <td>2017-10-02 10:56:33</td>\n",
       "      <td>e481f51cbdc54678b7cc49136f2d6af7</td>\n",
       "    </tr>\n",
       "    <tr>\n",
       "      <th>1</th>\n",
       "      <td>2018-07-24 20:41:37</td>\n",
       "      <td>53cdb2fc8bc7dce0b6741e2150273451</td>\n",
       "    </tr>\n",
       "    <tr>\n",
       "      <th>2</th>\n",
       "      <td>2018-08-08 08:38:49</td>\n",
       "      <td>47770eb9100c2d0c44946d9cf07ec65d</td>\n",
       "    </tr>\n",
       "    <tr>\n",
       "      <th>3</th>\n",
       "      <td>2017-11-18 19:28:06</td>\n",
       "      <td>949d5b44dbf5de918fe9c16f97b45f8a</td>\n",
       "    </tr>\n",
       "    <tr>\n",
       "      <th>4</th>\n",
       "      <td>2018-02-13 21:18:39</td>\n",
       "      <td>ad21c59c0840e6cb83a9ceb5573f8159</td>\n",
       "    </tr>\n",
       "  </tbody>\n",
       "</table>\n",
       "</div>"
      ],
      "text/plain": [
       "  order_purchase_timestamp                          order_id\n",
       "0      2017-10-02 10:56:33  e481f51cbdc54678b7cc49136f2d6af7\n",
       "1      2018-07-24 20:41:37  53cdb2fc8bc7dce0b6741e2150273451\n",
       "2      2018-08-08 08:38:49  47770eb9100c2d0c44946d9cf07ec65d\n",
       "3      2017-11-18 19:28:06  949d5b44dbf5de918fe9c16f97b45f8a\n",
       "4      2018-02-13 21:18:39  ad21c59c0840e6cb83a9ceb5573f8159"
      ]
     },
     "execution_count": 5,
     "metadata": {},
     "output_type": "execute_result"
    }
   ],
   "source": [
    "df1.head()"
   ]
  },
  {
   "cell_type": "code",
   "execution_count": 6,
   "id": "4e1d48ea",
   "metadata": {
    "execution": {
     "iopub.execute_input": "2023-06-13T23:27:36.508657Z",
     "iopub.status.busy": "2023-06-13T23:27:36.508140Z",
     "iopub.status.idle": "2023-06-13T23:27:36.522240Z",
     "shell.execute_reply": "2023-06-13T23:27:36.521004Z"
    },
    "papermill": {
     "duration": 0.035623,
     "end_time": "2023-06-13T23:27:36.525009",
     "exception": false,
     "start_time": "2023-06-13T23:27:36.489386",
     "status": "completed"
    },
    "tags": []
   },
   "outputs": [
    {
     "data": {
      "text/html": [
       "<div>\n",
       "<style scoped>\n",
       "    .dataframe tbody tr th:only-of-type {\n",
       "        vertical-align: middle;\n",
       "    }\n",
       "\n",
       "    .dataframe tbody tr th {\n",
       "        vertical-align: top;\n",
       "    }\n",
       "\n",
       "    .dataframe thead th {\n",
       "        text-align: right;\n",
       "    }\n",
       "</style>\n",
       "<table border=\"1\" class=\"dataframe\">\n",
       "  <thead>\n",
       "    <tr style=\"text-align: right;\">\n",
       "      <th></th>\n",
       "      <th>order_id</th>\n",
       "      <th>customer_id</th>\n",
       "      <th>payment_value</th>\n",
       "    </tr>\n",
       "  </thead>\n",
       "  <tbody>\n",
       "    <tr>\n",
       "      <th>0</th>\n",
       "      <td>00010242fe8c5a6d1ba2dd792cb16214</td>\n",
       "      <td>48436dade18ac8b2bce089ec2a041202</td>\n",
       "      <td>72.1900</td>\n",
       "    </tr>\n",
       "    <tr>\n",
       "      <th>1</th>\n",
       "      <td>00018f77f2f0320c557190d7a144bdd3</td>\n",
       "      <td>dd7ddc04e1b6c2c614352b383efe2d36</td>\n",
       "      <td>259.8300</td>\n",
       "    </tr>\n",
       "    <tr>\n",
       "      <th>2</th>\n",
       "      <td>000229ec398224ef6ca0657da4fc703e</td>\n",
       "      <td>5b51032eddd242adc84c38acab88f23d</td>\n",
       "      <td>216.8700</td>\n",
       "    </tr>\n",
       "    <tr>\n",
       "      <th>3</th>\n",
       "      <td>00024acbcdf0a6daa1e931b038114c75</td>\n",
       "      <td>9d7a1d34a5052409006425275ba1c2b4</td>\n",
       "      <td>25.7800</td>\n",
       "    </tr>\n",
       "    <tr>\n",
       "      <th>4</th>\n",
       "      <td>00042b26cf59d7ce69dfabb4e55b4fd9</td>\n",
       "      <td>df560393f3a51e74553ab94004ba5c87</td>\n",
       "      <td>218.0400</td>\n",
       "    </tr>\n",
       "  </tbody>\n",
       "</table>\n",
       "</div>"
      ],
      "text/plain": [
       "                           order_id                       customer_id  \\\n",
       "0  00010242fe8c5a6d1ba2dd792cb16214  48436dade18ac8b2bce089ec2a041202   \n",
       "1  00018f77f2f0320c557190d7a144bdd3  dd7ddc04e1b6c2c614352b383efe2d36   \n",
       "2  000229ec398224ef6ca0657da4fc703e  5b51032eddd242adc84c38acab88f23d   \n",
       "3  00024acbcdf0a6daa1e931b038114c75  9d7a1d34a5052409006425275ba1c2b4   \n",
       "4  00042b26cf59d7ce69dfabb4e55b4fd9  df560393f3a51e74553ab94004ba5c87   \n",
       "\n",
       "   payment_value  \n",
       "0        72.1900  \n",
       "1       259.8300  \n",
       "2       216.8700  \n",
       "3        25.7800  \n",
       "4       218.0400  "
      ]
     },
     "execution_count": 6,
     "metadata": {},
     "output_type": "execute_result"
    }
   ],
   "source": [
    "df2.head()"
   ]
  },
  {
   "cell_type": "code",
   "execution_count": 7,
   "id": "dc556508",
   "metadata": {
    "execution": {
     "iopub.execute_input": "2023-06-13T23:27:36.560807Z",
     "iopub.status.busy": "2023-06-13T23:27:36.560353Z",
     "iopub.status.idle": "2023-06-13T23:27:36.754709Z",
     "shell.execute_reply": "2023-06-13T23:27:36.753345Z"
    },
    "papermill": {
     "duration": 0.216131,
     "end_time": "2023-06-13T23:27:36.758121",
     "exception": false,
     "start_time": "2023-06-13T23:27:36.541990",
     "status": "completed"
    },
    "tags": []
   },
   "outputs": [],
   "source": [
    "df = pd.merge(df1,df2,on=\"order_id\", how = \"inner\" )"
   ]
  },
  {
   "cell_type": "code",
   "execution_count": 8,
   "id": "c9286cd2",
   "metadata": {
    "execution": {
     "iopub.execute_input": "2023-06-13T23:27:36.793932Z",
     "iopub.status.busy": "2023-06-13T23:27:36.793383Z",
     "iopub.status.idle": "2023-06-13T23:27:36.809283Z",
     "shell.execute_reply": "2023-06-13T23:27:36.808008Z"
    },
    "papermill": {
     "duration": 0.037316,
     "end_time": "2023-06-13T23:27:36.812179",
     "exception": false,
     "start_time": "2023-06-13T23:27:36.774863",
     "status": "completed"
    },
    "tags": []
   },
   "outputs": [
    {
     "data": {
      "text/html": [
       "<div>\n",
       "<style scoped>\n",
       "    .dataframe tbody tr th:only-of-type {\n",
       "        vertical-align: middle;\n",
       "    }\n",
       "\n",
       "    .dataframe tbody tr th {\n",
       "        vertical-align: top;\n",
       "    }\n",
       "\n",
       "    .dataframe thead th {\n",
       "        text-align: right;\n",
       "    }\n",
       "</style>\n",
       "<table border=\"1\" class=\"dataframe\">\n",
       "  <thead>\n",
       "    <tr style=\"text-align: right;\">\n",
       "      <th></th>\n",
       "      <th>order_purchase_timestamp</th>\n",
       "      <th>order_id</th>\n",
       "      <th>customer_id</th>\n",
       "      <th>payment_value</th>\n",
       "    </tr>\n",
       "  </thead>\n",
       "  <tbody>\n",
       "    <tr>\n",
       "      <th>0</th>\n",
       "      <td>2017-10-02 10:56:33</td>\n",
       "      <td>e481f51cbdc54678b7cc49136f2d6af7</td>\n",
       "      <td>3504c0cb71d7fa48d967e0e4c94d59d9</td>\n",
       "      <td>18.1200</td>\n",
       "    </tr>\n",
       "    <tr>\n",
       "      <th>1</th>\n",
       "      <td>2017-10-02 10:56:33</td>\n",
       "      <td>e481f51cbdc54678b7cc49136f2d6af7</td>\n",
       "      <td>3504c0cb71d7fa48d967e0e4c94d59d9</td>\n",
       "      <td>2.0000</td>\n",
       "    </tr>\n",
       "    <tr>\n",
       "      <th>2</th>\n",
       "      <td>2017-10-02 10:56:33</td>\n",
       "      <td>e481f51cbdc54678b7cc49136f2d6af7</td>\n",
       "      <td>3504c0cb71d7fa48d967e0e4c94d59d9</td>\n",
       "      <td>18.5900</td>\n",
       "    </tr>\n",
       "    <tr>\n",
       "      <th>3</th>\n",
       "      <td>2018-07-24 20:41:37</td>\n",
       "      <td>53cdb2fc8bc7dce0b6741e2150273451</td>\n",
       "      <td>289cdb325fb7e7f891c38608bf9e0962</td>\n",
       "      <td>141.4600</td>\n",
       "    </tr>\n",
       "    <tr>\n",
       "      <th>4</th>\n",
       "      <td>2018-08-08 08:38:49</td>\n",
       "      <td>47770eb9100c2d0c44946d9cf07ec65d</td>\n",
       "      <td>4869f7a5dfa277a7dca6462dcf3b52b2</td>\n",
       "      <td>179.1200</td>\n",
       "    </tr>\n",
       "  </tbody>\n",
       "</table>\n",
       "</div>"
      ],
      "text/plain": [
       "  order_purchase_timestamp                          order_id  \\\n",
       "0      2017-10-02 10:56:33  e481f51cbdc54678b7cc49136f2d6af7   \n",
       "1      2017-10-02 10:56:33  e481f51cbdc54678b7cc49136f2d6af7   \n",
       "2      2017-10-02 10:56:33  e481f51cbdc54678b7cc49136f2d6af7   \n",
       "3      2018-07-24 20:41:37  53cdb2fc8bc7dce0b6741e2150273451   \n",
       "4      2018-08-08 08:38:49  47770eb9100c2d0c44946d9cf07ec65d   \n",
       "\n",
       "                        customer_id  payment_value  \n",
       "0  3504c0cb71d7fa48d967e0e4c94d59d9        18.1200  \n",
       "1  3504c0cb71d7fa48d967e0e4c94d59d9         2.0000  \n",
       "2  3504c0cb71d7fa48d967e0e4c94d59d9        18.5900  \n",
       "3  289cdb325fb7e7f891c38608bf9e0962       141.4600  \n",
       "4  4869f7a5dfa277a7dca6462dcf3b52b2       179.1200  "
      ]
     },
     "execution_count": 8,
     "metadata": {},
     "output_type": "execute_result"
    }
   ],
   "source": [
    "df.head()"
   ]
  },
  {
   "cell_type": "code",
   "execution_count": 9,
   "id": "5aa3f56b",
   "metadata": {
    "execution": {
     "iopub.execute_input": "2023-06-13T23:27:36.850062Z",
     "iopub.status.busy": "2023-06-13T23:27:36.849487Z",
     "iopub.status.idle": "2023-06-13T23:27:37.002409Z",
     "shell.execute_reply": "2023-06-13T23:27:36.999824Z"
    },
    "papermill": {
     "duration": 0.177369,
     "end_time": "2023-06-13T23:27:37.007074",
     "exception": false,
     "start_time": "2023-06-13T23:27:36.829705",
     "status": "completed"
    },
    "tags": []
   },
   "outputs": [
    {
     "name": "stdout",
     "output_type": "stream",
     "text": [
      "##################### Shape #####################\n",
      "(117601, 4)\n",
      "##################### Types #####################\n",
      "order_purchase_timestamp     object\n",
      "order_id                     object\n",
      "customer_id                  object\n",
      "payment_value               float64\n",
      "dtype: object\n",
      "##################### Head #####################\n",
      "  order_purchase_timestamp                          order_id  \\\n",
      "0      2017-10-02 10:56:33  e481f51cbdc54678b7cc49136f2d6af7   \n",
      "1      2017-10-02 10:56:33  e481f51cbdc54678b7cc49136f2d6af7   \n",
      "2      2017-10-02 10:56:33  e481f51cbdc54678b7cc49136f2d6af7   \n",
      "3      2018-07-24 20:41:37  53cdb2fc8bc7dce0b6741e2150273451   \n",
      "4      2018-08-08 08:38:49  47770eb9100c2d0c44946d9cf07ec65d   \n",
      "\n",
      "                        customer_id  payment_value  \n",
      "0  3504c0cb71d7fa48d967e0e4c94d59d9        18.1200  \n",
      "1  3504c0cb71d7fa48d967e0e4c94d59d9         2.0000  \n",
      "2  3504c0cb71d7fa48d967e0e4c94d59d9        18.5900  \n",
      "3  289cdb325fb7e7f891c38608bf9e0962       141.4600  \n",
      "4  4869f7a5dfa277a7dca6462dcf3b52b2       179.1200  \n",
      "##################### Tail #####################\n",
      "       order_purchase_timestamp                          order_id  \\\n",
      "117596      2018-02-06 12:58:58  63943bddc261676b46f01ca7ac2f7bd8   \n",
      "117597      2017-08-27 14:46:43  83c1379a015df1e13d02aae0204711ab   \n",
      "117598      2018-01-08 21:28:27  11c177c8e97725db2631073c19f07b62   \n",
      "117599      2018-01-08 21:28:27  11c177c8e97725db2631073c19f07b62   \n",
      "117600      2018-03-08 20:57:30  66dea50a8b16d9b4dee7af250b4be1a5   \n",
      "\n",
      "                             customer_id  payment_value  \n",
      "117596  1f9ab4708f3056ede07124aad39a2554       195.0000  \n",
      "117597  d50d79cb34e38265a8649c383dcffd48       271.0100  \n",
      "117598  a1043bafd471dff536d0c462352beb48       441.1600  \n",
      "117599  a1043bafd471dff536d0c462352beb48       441.1600  \n",
      "117600  ececbfcff9804a2d6b40f589df8eef2b        86.8600  \n",
      "##################### NA #####################\n",
      "order_purchase_timestamp    0\n",
      "order_id                    0\n",
      "customer_id                 0\n",
      "payment_value               0\n",
      "dtype: int64\n",
      "##################### Quantiles #####################\n",
      "                    count     mean      std    min     0%      5%      50%  \\\n",
      "payment_value 117601.0000 172.6868 267.5923 0.0000 0.0000 27.2400 108.2100   \n",
      "\n",
      "                   95%       99%       100%        max  \n",
      "payment_value 514.9800 1221.2800 13664.0800 13664.0800  \n"
     ]
    }
   ],
   "source": [
    "# Preliminary examination of the data set\n",
    "def check_df(dataframe, head=5):\n",
    "    print('##################### Shape #####################')\n",
    "    print(dataframe.shape)\n",
    "    print('##################### Types #####################')\n",
    "    print(dataframe.dtypes)\n",
    "    print('##################### Head #####################')\n",
    "    print(dataframe.head(head))\n",
    "    print('##################### Tail #####################')\n",
    "    print(dataframe.tail(head))\n",
    "    print('##################### NA #####################')\n",
    "    print(dataframe.isnull().sum())\n",
    "    print('##################### Quantiles #####################')\n",
    "    print(dataframe.describe([0, 0.05, 0.50, 0.95, 0.99, 1]).T)\n",
    "\n",
    "check_df(df)"
   ]
  },
  {
   "cell_type": "code",
   "execution_count": 10,
   "id": "3ce37a7c",
   "metadata": {
    "execution": {
     "iopub.execute_input": "2023-06-13T23:27:37.045088Z",
     "iopub.status.busy": "2023-06-13T23:27:37.044262Z",
     "iopub.status.idle": "2023-06-13T23:27:37.263321Z",
     "shell.execute_reply": "2023-06-13T23:27:37.261713Z"
    },
    "papermill": {
     "duration": 0.241909,
     "end_time": "2023-06-13T23:27:37.266602",
     "exception": false,
     "start_time": "2023-06-13T23:27:37.024693",
     "status": "completed"
    },
    "tags": []
   },
   "outputs": [
    {
     "name": "stdout",
     "output_type": "stream",
     "text": [
      "Observations: 117601\n",
      "Variables: 4\n",
      "cat_cols: 0\n",
      "num_cols: 1\n",
      "cat_but_car: 3\n",
      "num_but_cat: 0\n"
     ]
    }
   ],
   "source": [
    "# Examination of numerical and categorical variables\n",
    "\n",
    "def grab_col_names(dataframe, cat_th=10, car_th=20):\n",
    "    \"\"\"\n",
    "    Returns the names of categorical, numeric and categorical but cardinal variables in the data set.\n",
    "    Note Categorical variables include categorical variables with numeric appearance.\n",
    "    Parameters\n",
    "    ------\n",
    "         dataframe: dataframe\n",
    "                Dataframe to get variable names\n",
    "        cat_th: int, optional\n",
    "                class threshold for numeric but categorical variables\n",
    "        car_th: int, optinal\n",
    "                class threshold for categorical but cardinal variables\n",
    "    Returns\n",
    "    ------\n",
    "        cat_cols: list\n",
    "                Categorical variable list\n",
    "        num_cols: list\n",
    "                Numeric variable list\n",
    "        cat_but_car: list\n",
    "                List of cardinal variables with categorical view\n",
    "    Examples\n",
    "    ------\n",
    "        import seaborn as sns\n",
    "        df = sns.load_dataset(\"iris\")\n",
    "        print(grab_col_names(df))\n",
    "    Notes\n",
    "    ------\n",
    "        cat_cols + num_cols + cat_but_car = total number of variables\n",
    "        num_but_cat is inside cat_cols.\n",
    "        The sum of the 3 return lists equals the total number of variables: cat_cols + num_cols + cat_but_car = number of variables\n",
    "    \"\"\"\n",
    "\n",
    "    # cat_cols, cat_but_car\n",
    "    cat_cols = [col for col in dataframe.columns if dataframe[col].dtypes == 'O']\n",
    "    num_but_cat = [col for col in dataframe.columns if dataframe[col].nunique() < cat_th and\n",
    "                   dataframe[col].dtypes != 'O']\n",
    "    cat_but_car = [col for col in dataframe.columns if dataframe[col].nunique() > car_th and\n",
    "                   dataframe[col].dtypes == 'O']\n",
    "    cat_cols = cat_cols + num_but_cat\n",
    "    cat_cols = [col for col in cat_cols if col not in cat_but_car]\n",
    "\n",
    "    # num_cols\n",
    "    num_cols = [col for col in dataframe.columns if dataframe[col].dtypes != 'O']\n",
    "    num_cols = [col for col in num_cols if col not in num_but_cat]\n",
    "\n",
    "    print(f'Observations: {dataframe.shape[0]}')\n",
    "    print(f'Variables: {dataframe.shape[1]}')\n",
    "    print(f'cat_cols: {len(cat_cols)}')\n",
    "    print(f'num_cols: {len(num_cols)}')\n",
    "    print(f'cat_but_car: {len(cat_but_car)}')\n",
    "    print(f'num_but_cat: {len(num_but_cat)}')\n",
    "    return cat_cols, num_cols, cat_but_car, num_but_cat\n",
    "\n",
    "cat_cols, num_cols, cat_but_car, num_but_cat = grab_col_names(df)"
   ]
  },
  {
   "cell_type": "code",
   "execution_count": 11,
   "id": "1dacdf53",
   "metadata": {
    "execution": {
     "iopub.execute_input": "2023-06-13T23:27:37.304638Z",
     "iopub.status.busy": "2023-06-13T23:27:37.303265Z",
     "iopub.status.idle": "2023-06-13T23:27:37.357566Z",
     "shell.execute_reply": "2023-06-13T23:27:37.356300Z"
    },
    "papermill": {
     "duration": 0.076435,
     "end_time": "2023-06-13T23:27:37.360589",
     "exception": false,
     "start_time": "2023-06-13T23:27:37.284154",
     "status": "completed"
    },
    "tags": []
   },
   "outputs": [],
   "source": [
    "# changed the type\n",
    "\n",
    "df[\"order_purchase_timestamp\"] = pd.to_datetime(df[\"order_purchase_timestamp\"])"
   ]
  },
  {
   "cell_type": "code",
   "execution_count": 12,
   "id": "98f88efc",
   "metadata": {
    "execution": {
     "iopub.execute_input": "2023-06-13T23:27:37.398049Z",
     "iopub.status.busy": "2023-06-13T23:27:37.397499Z",
     "iopub.status.idle": "2023-06-13T23:27:37.406355Z",
     "shell.execute_reply": "2023-06-13T23:27:37.405366Z"
    },
    "papermill": {
     "duration": 0.03051,
     "end_time": "2023-06-13T23:27:37.408693",
     "exception": false,
     "start_time": "2023-06-13T23:27:37.378183",
     "status": "completed"
    },
    "tags": []
   },
   "outputs": [
    {
     "data": {
      "text/plain": [
       "Timestamp('2018-09-03 09:06:57')"
      ]
     },
     "execution_count": 12,
     "metadata": {},
     "output_type": "execute_result"
    }
   ],
   "source": [
    "df[\"order_purchase_timestamp\"].max()"
   ]
  },
  {
   "cell_type": "code",
   "execution_count": 13,
   "id": "3fa83302",
   "metadata": {
    "execution": {
     "iopub.execute_input": "2023-06-13T23:27:37.447214Z",
     "iopub.status.busy": "2023-06-13T23:27:37.446321Z",
     "iopub.status.idle": "2023-06-13T23:27:37.452059Z",
     "shell.execute_reply": "2023-06-13T23:27:37.450998Z"
    },
    "papermill": {
     "duration": 0.02734,
     "end_time": "2023-06-13T23:27:37.454356",
     "exception": false,
     "start_time": "2023-06-13T23:27:37.427016",
     "status": "completed"
    },
    "tags": []
   },
   "outputs": [],
   "source": [
    "# Present Date (date of analysis)\n",
    "\n",
    "today_date = dt.datetime(2018, 9, 5)"
   ]
  },
  {
   "cell_type": "code",
   "execution_count": 14,
   "id": "aea71ca9",
   "metadata": {
    "execution": {
     "iopub.execute_input": "2023-06-13T23:27:37.492494Z",
     "iopub.status.busy": "2023-06-13T23:27:37.491215Z",
     "iopub.status.idle": "2023-06-13T23:27:39.237768Z",
     "shell.execute_reply": "2023-06-13T23:27:39.236537Z"
    },
    "papermill": {
     "duration": 1.769303,
     "end_time": "2023-06-13T23:27:39.241126",
     "exception": false,
     "start_time": "2023-06-13T23:27:37.471823",
     "status": "completed"
    },
    "tags": []
   },
   "outputs": [],
   "source": [
    "cltv_df = df.groupby('customer_id').agg(\n",
    "                    {'order_purchase_timestamp': [lambda order_purchase_timestamp: (order_purchase_timestamp.max() - order_purchase_timestamp.min()).days,\n",
    "                                                  lambda order_purchase_timestamp: (today_date - order_purchase_timestamp.min()).days],\n",
    "                    'order_id': lambda x: x.nunique(),\n",
    "                    'payment_value': lambda TotalPrice: TotalPrice.sum()})"
   ]
  },
  {
   "cell_type": "code",
   "execution_count": 15,
   "id": "a371e5b3",
   "metadata": {
    "execution": {
     "iopub.execute_input": "2023-06-13T23:27:39.278883Z",
     "iopub.status.busy": "2023-06-13T23:27:39.278358Z",
     "iopub.status.idle": "2023-06-13T23:27:39.294256Z",
     "shell.execute_reply": "2023-06-13T23:27:39.292784Z"
    },
    "papermill": {
     "duration": 0.038291,
     "end_time": "2023-06-13T23:27:39.297361",
     "exception": false,
     "start_time": "2023-06-13T23:27:39.259070",
     "status": "completed"
    },
    "tags": []
   },
   "outputs": [
    {
     "data": {
      "text/html": [
       "<div>\n",
       "<style scoped>\n",
       "    .dataframe tbody tr th:only-of-type {\n",
       "        vertical-align: middle;\n",
       "    }\n",
       "\n",
       "    .dataframe tbody tr th {\n",
       "        vertical-align: top;\n",
       "    }\n",
       "\n",
       "    .dataframe thead tr th {\n",
       "        text-align: left;\n",
       "    }\n",
       "\n",
       "    .dataframe thead tr:last-of-type th {\n",
       "        text-align: right;\n",
       "    }\n",
       "</style>\n",
       "<table border=\"1\" class=\"dataframe\">\n",
       "  <thead>\n",
       "    <tr>\n",
       "      <th></th>\n",
       "      <th colspan=\"2\" halign=\"left\">order_purchase_timestamp</th>\n",
       "      <th>order_id</th>\n",
       "      <th>payment_value</th>\n",
       "    </tr>\n",
       "    <tr>\n",
       "      <th></th>\n",
       "      <th>&lt;lambda_0&gt;</th>\n",
       "      <th>&lt;lambda_1&gt;</th>\n",
       "      <th>&lt;lambda&gt;</th>\n",
       "      <th>&lt;lambda&gt;</th>\n",
       "    </tr>\n",
       "    <tr>\n",
       "      <th>customer_id</th>\n",
       "      <th></th>\n",
       "      <th></th>\n",
       "      <th></th>\n",
       "      <th></th>\n",
       "    </tr>\n",
       "  </thead>\n",
       "  <tbody>\n",
       "    <tr>\n",
       "      <th>0015a82c2db000af6aaaf3ae2ecb0532</th>\n",
       "      <td>21</td>\n",
       "      <td>343</td>\n",
       "      <td>3</td>\n",
       "      <td>2748.0600</td>\n",
       "    </tr>\n",
       "    <tr>\n",
       "      <th>001cca7ae9ae17fb1caed9dfb1094831</th>\n",
       "      <td>523</td>\n",
       "      <td>577</td>\n",
       "      <td>200</td>\n",
       "      <td>48349.2200</td>\n",
       "    </tr>\n",
       "    <tr>\n",
       "      <th>001e6ad469a905060d959994f1b41e4f</th>\n",
       "      <td>0</td>\n",
       "      <td>28</td>\n",
       "      <td>1</td>\n",
       "      <td>267.9400</td>\n",
       "    </tr>\n",
       "    <tr>\n",
       "      <th>002100f778ceb8431b7a1020ff7ab48f</th>\n",
       "      <td>210</td>\n",
       "      <td>355</td>\n",
       "      <td>51</td>\n",
       "      <td>2445.6400</td>\n",
       "    </tr>\n",
       "    <tr>\n",
       "      <th>003554e2dce176b5555353e4f3555ac8</th>\n",
       "      <td>0</td>\n",
       "      <td>263</td>\n",
       "      <td>1</td>\n",
       "      <td>139.3800</td>\n",
       "    </tr>\n",
       "  </tbody>\n",
       "</table>\n",
       "</div>"
      ],
      "text/plain": [
       "                                 order_purchase_timestamp            order_id  \\\n",
       "                                               <lambda_0> <lambda_1> <lambda>   \n",
       "customer_id                                                                     \n",
       "0015a82c2db000af6aaaf3ae2ecb0532                       21        343        3   \n",
       "001cca7ae9ae17fb1caed9dfb1094831                      523        577      200   \n",
       "001e6ad469a905060d959994f1b41e4f                        0         28        1   \n",
       "002100f778ceb8431b7a1020ff7ab48f                      210        355       51   \n",
       "003554e2dce176b5555353e4f3555ac8                        0        263        1   \n",
       "\n",
       "                                 payment_value  \n",
       "                                      <lambda>  \n",
       "customer_id                                     \n",
       "0015a82c2db000af6aaaf3ae2ecb0532     2748.0600  \n",
       "001cca7ae9ae17fb1caed9dfb1094831    48349.2200  \n",
       "001e6ad469a905060d959994f1b41e4f      267.9400  \n",
       "002100f778ceb8431b7a1020ff7ab48f     2445.6400  \n",
       "003554e2dce176b5555353e4f3555ac8      139.3800  "
      ]
     },
     "execution_count": 15,
     "metadata": {},
     "output_type": "execute_result"
    }
   ],
   "source": [
    "cltv_df.head()"
   ]
  },
  {
   "cell_type": "code",
   "execution_count": 16,
   "id": "37dd2208",
   "metadata": {
    "execution": {
     "iopub.execute_input": "2023-06-13T23:27:39.336879Z",
     "iopub.status.busy": "2023-06-13T23:27:39.335856Z",
     "iopub.status.idle": "2023-06-13T23:27:39.342651Z",
     "shell.execute_reply": "2023-06-13T23:27:39.341056Z"
    },
    "papermill": {
     "duration": 0.0295,
     "end_time": "2023-06-13T23:27:39.345591",
     "exception": false,
     "start_time": "2023-06-13T23:27:39.316091",
     "status": "completed"
    },
    "tags": []
   },
   "outputs": [],
   "source": [
    "cltv_df.columns = cltv_df.columns.droplevel(0)"
   ]
  },
  {
   "cell_type": "code",
   "execution_count": 17,
   "id": "3bd1b325",
   "metadata": {
    "execution": {
     "iopub.execute_input": "2023-06-13T23:27:39.385379Z",
     "iopub.status.busy": "2023-06-13T23:27:39.384855Z",
     "iopub.status.idle": "2023-06-13T23:27:39.399849Z",
     "shell.execute_reply": "2023-06-13T23:27:39.398408Z"
    },
    "papermill": {
     "duration": 0.038369,
     "end_time": "2023-06-13T23:27:39.402427",
     "exception": false,
     "start_time": "2023-06-13T23:27:39.364058",
     "status": "completed"
    },
    "tags": []
   },
   "outputs": [
    {
     "data": {
      "text/html": [
       "<div>\n",
       "<style scoped>\n",
       "    .dataframe tbody tr th:only-of-type {\n",
       "        vertical-align: middle;\n",
       "    }\n",
       "\n",
       "    .dataframe tbody tr th {\n",
       "        vertical-align: top;\n",
       "    }\n",
       "\n",
       "    .dataframe thead th {\n",
       "        text-align: right;\n",
       "    }\n",
       "</style>\n",
       "<table border=\"1\" class=\"dataframe\">\n",
       "  <thead>\n",
       "    <tr style=\"text-align: right;\">\n",
       "      <th></th>\n",
       "      <th>&lt;lambda_0&gt;</th>\n",
       "      <th>&lt;lambda_1&gt;</th>\n",
       "      <th>&lt;lambda&gt;</th>\n",
       "      <th>&lt;lambda&gt;</th>\n",
       "    </tr>\n",
       "    <tr>\n",
       "      <th>customer_id</th>\n",
       "      <th></th>\n",
       "      <th></th>\n",
       "      <th></th>\n",
       "      <th></th>\n",
       "    </tr>\n",
       "  </thead>\n",
       "  <tbody>\n",
       "    <tr>\n",
       "      <th>0015a82c2db000af6aaaf3ae2ecb0532</th>\n",
       "      <td>21</td>\n",
       "      <td>343</td>\n",
       "      <td>3</td>\n",
       "      <td>2748.0600</td>\n",
       "    </tr>\n",
       "    <tr>\n",
       "      <th>001cca7ae9ae17fb1caed9dfb1094831</th>\n",
       "      <td>523</td>\n",
       "      <td>577</td>\n",
       "      <td>200</td>\n",
       "      <td>48349.2200</td>\n",
       "    </tr>\n",
       "    <tr>\n",
       "      <th>001e6ad469a905060d959994f1b41e4f</th>\n",
       "      <td>0</td>\n",
       "      <td>28</td>\n",
       "      <td>1</td>\n",
       "      <td>267.9400</td>\n",
       "    </tr>\n",
       "    <tr>\n",
       "      <th>002100f778ceb8431b7a1020ff7ab48f</th>\n",
       "      <td>210</td>\n",
       "      <td>355</td>\n",
       "      <td>51</td>\n",
       "      <td>2445.6400</td>\n",
       "    </tr>\n",
       "    <tr>\n",
       "      <th>003554e2dce176b5555353e4f3555ac8</th>\n",
       "      <td>0</td>\n",
       "      <td>263</td>\n",
       "      <td>1</td>\n",
       "      <td>139.3800</td>\n",
       "    </tr>\n",
       "  </tbody>\n",
       "</table>\n",
       "</div>"
      ],
      "text/plain": [
       "                                  <lambda_0>  <lambda_1>  <lambda>   <lambda>\n",
       "customer_id                                                                  \n",
       "0015a82c2db000af6aaaf3ae2ecb0532          21         343         3  2748.0600\n",
       "001cca7ae9ae17fb1caed9dfb1094831         523         577       200 48349.2200\n",
       "001e6ad469a905060d959994f1b41e4f           0          28         1   267.9400\n",
       "002100f778ceb8431b7a1020ff7ab48f         210         355        51  2445.6400\n",
       "003554e2dce176b5555353e4f3555ac8           0         263         1   139.3800"
      ]
     },
     "execution_count": 17,
     "metadata": {},
     "output_type": "execute_result"
    }
   ],
   "source": [
    "cltv_df.head()"
   ]
  },
  {
   "cell_type": "code",
   "execution_count": 18,
   "id": "b8a341db",
   "metadata": {
    "execution": {
     "iopub.execute_input": "2023-06-13T23:27:39.442087Z",
     "iopub.status.busy": "2023-06-13T23:27:39.441214Z",
     "iopub.status.idle": "2023-06-13T23:27:39.446980Z",
     "shell.execute_reply": "2023-06-13T23:27:39.446016Z"
    },
    "papermill": {
     "duration": 0.028548,
     "end_time": "2023-06-13T23:27:39.449596",
     "exception": false,
     "start_time": "2023-06-13T23:27:39.421048",
     "status": "completed"
    },
    "tags": []
   },
   "outputs": [],
   "source": [
    "# Change the columns name\n",
    "\n",
    "cltv_df.columns = ['recency', 'T', 'frequency', 'monetary']\n"
   ]
  },
  {
   "cell_type": "code",
   "execution_count": 19,
   "id": "211c16b6",
   "metadata": {
    "execution": {
     "iopub.execute_input": "2023-06-13T23:27:39.488264Z",
     "iopub.status.busy": "2023-06-13T23:27:39.487735Z",
     "iopub.status.idle": "2023-06-13T23:27:39.500130Z",
     "shell.execute_reply": "2023-06-13T23:27:39.499153Z"
    },
    "papermill": {
     "duration": 0.03474,
     "end_time": "2023-06-13T23:27:39.502551",
     "exception": false,
     "start_time": "2023-06-13T23:27:39.467811",
     "status": "completed"
    },
    "tags": []
   },
   "outputs": [
    {
     "data": {
      "text/html": [
       "<div>\n",
       "<style scoped>\n",
       "    .dataframe tbody tr th:only-of-type {\n",
       "        vertical-align: middle;\n",
       "    }\n",
       "\n",
       "    .dataframe tbody tr th {\n",
       "        vertical-align: top;\n",
       "    }\n",
       "\n",
       "    .dataframe thead th {\n",
       "        text-align: right;\n",
       "    }\n",
       "</style>\n",
       "<table border=\"1\" class=\"dataframe\">\n",
       "  <thead>\n",
       "    <tr style=\"text-align: right;\">\n",
       "      <th></th>\n",
       "      <th>recency</th>\n",
       "      <th>T</th>\n",
       "      <th>frequency</th>\n",
       "      <th>monetary</th>\n",
       "    </tr>\n",
       "    <tr>\n",
       "      <th>customer_id</th>\n",
       "      <th></th>\n",
       "      <th></th>\n",
       "      <th></th>\n",
       "      <th></th>\n",
       "    </tr>\n",
       "  </thead>\n",
       "  <tbody>\n",
       "    <tr>\n",
       "      <th>0015a82c2db000af6aaaf3ae2ecb0532</th>\n",
       "      <td>21</td>\n",
       "      <td>343</td>\n",
       "      <td>3</td>\n",
       "      <td>2748.0600</td>\n",
       "    </tr>\n",
       "    <tr>\n",
       "      <th>001cca7ae9ae17fb1caed9dfb1094831</th>\n",
       "      <td>523</td>\n",
       "      <td>577</td>\n",
       "      <td>200</td>\n",
       "      <td>48349.2200</td>\n",
       "    </tr>\n",
       "    <tr>\n",
       "      <th>001e6ad469a905060d959994f1b41e4f</th>\n",
       "      <td>0</td>\n",
       "      <td>28</td>\n",
       "      <td>1</td>\n",
       "      <td>267.9400</td>\n",
       "    </tr>\n",
       "    <tr>\n",
       "      <th>002100f778ceb8431b7a1020ff7ab48f</th>\n",
       "      <td>210</td>\n",
       "      <td>355</td>\n",
       "      <td>51</td>\n",
       "      <td>2445.6400</td>\n",
       "    </tr>\n",
       "    <tr>\n",
       "      <th>003554e2dce176b5555353e4f3555ac8</th>\n",
       "      <td>0</td>\n",
       "      <td>263</td>\n",
       "      <td>1</td>\n",
       "      <td>139.3800</td>\n",
       "    </tr>\n",
       "  </tbody>\n",
       "</table>\n",
       "</div>"
      ],
      "text/plain": [
       "                                  recency    T  frequency   monetary\n",
       "customer_id                                                         \n",
       "0015a82c2db000af6aaaf3ae2ecb0532       21  343          3  2748.0600\n",
       "001cca7ae9ae17fb1caed9dfb1094831      523  577        200 48349.2200\n",
       "001e6ad469a905060d959994f1b41e4f        0   28          1   267.9400\n",
       "002100f778ceb8431b7a1020ff7ab48f      210  355         51  2445.6400\n",
       "003554e2dce176b5555353e4f3555ac8        0  263          1   139.3800"
      ]
     },
     "execution_count": 19,
     "metadata": {},
     "output_type": "execute_result"
    }
   ],
   "source": [
    "cltv_df.head()"
   ]
  },
  {
   "cell_type": "markdown",
   "id": "cd938bb1",
   "metadata": {
    "papermill": {
     "duration": 0.017787,
     "end_time": "2023-06-13T23:27:39.538549",
     "exception": false,
     "start_time": "2023-06-13T23:27:39.520762",
     "status": "completed"
    },
    "tags": []
   },
   "source": [
    "We will need to convert the types of these values so that we can do the calculations and apply the model.\n",
    "- Recency = weekly\n",
    "- Monetary = Average\n",
    "- T = weekly"
   ]
  },
  {
   "cell_type": "code",
   "execution_count": 20,
   "id": "3e7f4f99",
   "metadata": {
    "execution": {
     "iopub.execute_input": "2023-06-13T23:27:39.577542Z",
     "iopub.status.busy": "2023-06-13T23:27:39.577039Z",
     "iopub.status.idle": "2023-06-13T23:27:39.583677Z",
     "shell.execute_reply": "2023-06-13T23:27:39.582513Z"
    },
    "papermill": {
     "duration": 0.029912,
     "end_time": "2023-06-13T23:27:39.586593",
     "exception": false,
     "start_time": "2023-06-13T23:27:39.556681",
     "status": "completed"
    },
    "tags": []
   },
   "outputs": [],
   "source": [
    "# We calculated the average value for each customer.\n",
    "\n",
    "cltv_df[\"monetary\"] = cltv_df[\"monetary\"] / cltv_df[\"frequency\"]"
   ]
  },
  {
   "cell_type": "code",
   "execution_count": 21,
   "id": "da9dcacd",
   "metadata": {
    "execution": {
     "iopub.execute_input": "2023-06-13T23:27:39.626268Z",
     "iopub.status.busy": "2023-06-13T23:27:39.624810Z",
     "iopub.status.idle": "2023-06-13T23:27:39.637563Z",
     "shell.execute_reply": "2023-06-13T23:27:39.636365Z"
    },
    "papermill": {
     "duration": 0.034993,
     "end_time": "2023-06-13T23:27:39.640068",
     "exception": false,
     "start_time": "2023-06-13T23:27:39.605075",
     "status": "completed"
    },
    "tags": []
   },
   "outputs": [
    {
     "data": {
      "text/html": [
       "<div>\n",
       "<style scoped>\n",
       "    .dataframe tbody tr th:only-of-type {\n",
       "        vertical-align: middle;\n",
       "    }\n",
       "\n",
       "    .dataframe tbody tr th {\n",
       "        vertical-align: top;\n",
       "    }\n",
       "\n",
       "    .dataframe thead th {\n",
       "        text-align: right;\n",
       "    }\n",
       "</style>\n",
       "<table border=\"1\" class=\"dataframe\">\n",
       "  <thead>\n",
       "    <tr style=\"text-align: right;\">\n",
       "      <th></th>\n",
       "      <th>recency</th>\n",
       "      <th>T</th>\n",
       "      <th>frequency</th>\n",
       "      <th>monetary</th>\n",
       "    </tr>\n",
       "    <tr>\n",
       "      <th>customer_id</th>\n",
       "      <th></th>\n",
       "      <th></th>\n",
       "      <th></th>\n",
       "      <th></th>\n",
       "    </tr>\n",
       "  </thead>\n",
       "  <tbody>\n",
       "    <tr>\n",
       "      <th>0015a82c2db000af6aaaf3ae2ecb0532</th>\n",
       "      <td>21</td>\n",
       "      <td>343</td>\n",
       "      <td>3</td>\n",
       "      <td>916.0200</td>\n",
       "    </tr>\n",
       "    <tr>\n",
       "      <th>001cca7ae9ae17fb1caed9dfb1094831</th>\n",
       "      <td>523</td>\n",
       "      <td>577</td>\n",
       "      <td>200</td>\n",
       "      <td>241.7461</td>\n",
       "    </tr>\n",
       "    <tr>\n",
       "      <th>001e6ad469a905060d959994f1b41e4f</th>\n",
       "      <td>0</td>\n",
       "      <td>28</td>\n",
       "      <td>1</td>\n",
       "      <td>267.9400</td>\n",
       "    </tr>\n",
       "    <tr>\n",
       "      <th>002100f778ceb8431b7a1020ff7ab48f</th>\n",
       "      <td>210</td>\n",
       "      <td>355</td>\n",
       "      <td>51</td>\n",
       "      <td>47.9537</td>\n",
       "    </tr>\n",
       "    <tr>\n",
       "      <th>003554e2dce176b5555353e4f3555ac8</th>\n",
       "      <td>0</td>\n",
       "      <td>263</td>\n",
       "      <td>1</td>\n",
       "      <td>139.3800</td>\n",
       "    </tr>\n",
       "  </tbody>\n",
       "</table>\n",
       "</div>"
      ],
      "text/plain": [
       "                                  recency    T  frequency  monetary\n",
       "customer_id                                                        \n",
       "0015a82c2db000af6aaaf3ae2ecb0532       21  343          3  916.0200\n",
       "001cca7ae9ae17fb1caed9dfb1094831      523  577        200  241.7461\n",
       "001e6ad469a905060d959994f1b41e4f        0   28          1  267.9400\n",
       "002100f778ceb8431b7a1020ff7ab48f      210  355         51   47.9537\n",
       "003554e2dce176b5555353e4f3555ac8        0  263          1  139.3800"
      ]
     },
     "execution_count": 21,
     "metadata": {},
     "output_type": "execute_result"
    }
   ],
   "source": [
    "cltv_df.head()"
   ]
  },
  {
   "cell_type": "code",
   "execution_count": 22,
   "id": "36b5f719",
   "metadata": {
    "execution": {
     "iopub.execute_input": "2023-06-13T23:27:39.679969Z",
     "iopub.status.busy": "2023-06-13T23:27:39.679458Z",
     "iopub.status.idle": "2023-06-13T23:27:39.687384Z",
     "shell.execute_reply": "2023-06-13T23:27:39.686205Z"
    },
    "papermill": {
     "duration": 0.03104,
     "end_time": "2023-06-13T23:27:39.690015",
     "exception": false,
     "start_time": "2023-06-13T23:27:39.658975",
     "status": "completed"
    },
    "tags": []
   },
   "outputs": [],
   "source": [
    "# We chose frequency to be greater than 1.\n",
    "\n",
    "cltv_df = cltv_df[(cltv_df['frequency'] > 1)]"
   ]
  },
  {
   "cell_type": "code",
   "execution_count": 23,
   "id": "7452b0f1",
   "metadata": {
    "execution": {
     "iopub.execute_input": "2023-06-13T23:27:39.730325Z",
     "iopub.status.busy": "2023-06-13T23:27:39.729812Z",
     "iopub.status.idle": "2023-06-13T23:27:39.741355Z",
     "shell.execute_reply": "2023-06-13T23:27:39.740458Z"
    },
    "papermill": {
     "duration": 0.034577,
     "end_time": "2023-06-13T23:27:39.743776",
     "exception": false,
     "start_time": "2023-06-13T23:27:39.709199",
     "status": "completed"
    },
    "tags": []
   },
   "outputs": [
    {
     "data": {
      "text/html": [
       "<div>\n",
       "<style scoped>\n",
       "    .dataframe tbody tr th:only-of-type {\n",
       "        vertical-align: middle;\n",
       "    }\n",
       "\n",
       "    .dataframe tbody tr th {\n",
       "        vertical-align: top;\n",
       "    }\n",
       "\n",
       "    .dataframe thead th {\n",
       "        text-align: right;\n",
       "    }\n",
       "</style>\n",
       "<table border=\"1\" class=\"dataframe\">\n",
       "  <thead>\n",
       "    <tr style=\"text-align: right;\">\n",
       "      <th></th>\n",
       "      <th>recency</th>\n",
       "      <th>T</th>\n",
       "      <th>frequency</th>\n",
       "      <th>monetary</th>\n",
       "    </tr>\n",
       "    <tr>\n",
       "      <th>customer_id</th>\n",
       "      <th></th>\n",
       "      <th></th>\n",
       "      <th></th>\n",
       "      <th></th>\n",
       "    </tr>\n",
       "  </thead>\n",
       "  <tbody>\n",
       "    <tr>\n",
       "      <th>0015a82c2db000af6aaaf3ae2ecb0532</th>\n",
       "      <td>21</td>\n",
       "      <td>343</td>\n",
       "      <td>3</td>\n",
       "      <td>916.0200</td>\n",
       "    </tr>\n",
       "    <tr>\n",
       "      <th>001cca7ae9ae17fb1caed9dfb1094831</th>\n",
       "      <td>523</td>\n",
       "      <td>577</td>\n",
       "      <td>200</td>\n",
       "      <td>241.7461</td>\n",
       "    </tr>\n",
       "    <tr>\n",
       "      <th>002100f778ceb8431b7a1020ff7ab48f</th>\n",
       "      <td>210</td>\n",
       "      <td>355</td>\n",
       "      <td>51</td>\n",
       "      <td>47.9537</td>\n",
       "    </tr>\n",
       "    <tr>\n",
       "      <th>004c9cd9d87a3c30c522c48c4fc07416</th>\n",
       "      <td>461</td>\n",
       "      <td>585</td>\n",
       "      <td>158</td>\n",
       "      <td>176.0149</td>\n",
       "    </tr>\n",
       "    <tr>\n",
       "      <th>00720abe85ba0859807595bbf045a33b</th>\n",
       "      <td>188</td>\n",
       "      <td>220</td>\n",
       "      <td>13</td>\n",
       "      <td>239.8769</td>\n",
       "    </tr>\n",
       "  </tbody>\n",
       "</table>\n",
       "</div>"
      ],
      "text/plain": [
       "                                  recency    T  frequency  monetary\n",
       "customer_id                                                        \n",
       "0015a82c2db000af6aaaf3ae2ecb0532       21  343          3  916.0200\n",
       "001cca7ae9ae17fb1caed9dfb1094831      523  577        200  241.7461\n",
       "002100f778ceb8431b7a1020ff7ab48f      210  355         51   47.9537\n",
       "004c9cd9d87a3c30c522c48c4fc07416      461  585        158  176.0149\n",
       "00720abe85ba0859807595bbf045a33b      188  220         13  239.8769"
      ]
     },
     "execution_count": 23,
     "metadata": {},
     "output_type": "execute_result"
    }
   ],
   "source": [
    "cltv_df.head()"
   ]
  },
  {
   "cell_type": "code",
   "execution_count": 24,
   "id": "448dcf17",
   "metadata": {
    "execution": {
     "iopub.execute_input": "2023-06-13T23:27:39.785087Z",
     "iopub.status.busy": "2023-06-13T23:27:39.784308Z",
     "iopub.status.idle": "2023-06-13T23:27:39.789878Z",
     "shell.execute_reply": "2023-06-13T23:27:39.789026Z"
    },
    "papermill": {
     "duration": 0.028879,
     "end_time": "2023-06-13T23:27:39.792446",
     "exception": false,
     "start_time": "2023-06-13T23:27:39.763567",
     "status": "completed"
    },
    "tags": []
   },
   "outputs": [],
   "source": [
    "# We converted the recency value to weekly.\n",
    "\n",
    "cltv_df[\"recency\"] = cltv_df[\"recency\"] / 7"
   ]
  },
  {
   "cell_type": "code",
   "execution_count": 25,
   "id": "53619d94",
   "metadata": {
    "execution": {
     "iopub.execute_input": "2023-06-13T23:27:39.833408Z",
     "iopub.status.busy": "2023-06-13T23:27:39.832608Z",
     "iopub.status.idle": "2023-06-13T23:27:39.844230Z",
     "shell.execute_reply": "2023-06-13T23:27:39.842974Z"
    },
    "papermill": {
     "duration": 0.034833,
     "end_time": "2023-06-13T23:27:39.846687",
     "exception": false,
     "start_time": "2023-06-13T23:27:39.811854",
     "status": "completed"
    },
    "tags": []
   },
   "outputs": [
    {
     "data": {
      "text/html": [
       "<div>\n",
       "<style scoped>\n",
       "    .dataframe tbody tr th:only-of-type {\n",
       "        vertical-align: middle;\n",
       "    }\n",
       "\n",
       "    .dataframe tbody tr th {\n",
       "        vertical-align: top;\n",
       "    }\n",
       "\n",
       "    .dataframe thead th {\n",
       "        text-align: right;\n",
       "    }\n",
       "</style>\n",
       "<table border=\"1\" class=\"dataframe\">\n",
       "  <thead>\n",
       "    <tr style=\"text-align: right;\">\n",
       "      <th></th>\n",
       "      <th>recency</th>\n",
       "      <th>T</th>\n",
       "      <th>frequency</th>\n",
       "      <th>monetary</th>\n",
       "    </tr>\n",
       "    <tr>\n",
       "      <th>customer_id</th>\n",
       "      <th></th>\n",
       "      <th></th>\n",
       "      <th></th>\n",
       "      <th></th>\n",
       "    </tr>\n",
       "  </thead>\n",
       "  <tbody>\n",
       "    <tr>\n",
       "      <th>0015a82c2db000af6aaaf3ae2ecb0532</th>\n",
       "      <td>3.0000</td>\n",
       "      <td>343</td>\n",
       "      <td>3</td>\n",
       "      <td>916.0200</td>\n",
       "    </tr>\n",
       "    <tr>\n",
       "      <th>001cca7ae9ae17fb1caed9dfb1094831</th>\n",
       "      <td>74.7143</td>\n",
       "      <td>577</td>\n",
       "      <td>200</td>\n",
       "      <td>241.7461</td>\n",
       "    </tr>\n",
       "    <tr>\n",
       "      <th>002100f778ceb8431b7a1020ff7ab48f</th>\n",
       "      <td>30.0000</td>\n",
       "      <td>355</td>\n",
       "      <td>51</td>\n",
       "      <td>47.9537</td>\n",
       "    </tr>\n",
       "    <tr>\n",
       "      <th>004c9cd9d87a3c30c522c48c4fc07416</th>\n",
       "      <td>65.8571</td>\n",
       "      <td>585</td>\n",
       "      <td>158</td>\n",
       "      <td>176.0149</td>\n",
       "    </tr>\n",
       "    <tr>\n",
       "      <th>00720abe85ba0859807595bbf045a33b</th>\n",
       "      <td>26.8571</td>\n",
       "      <td>220</td>\n",
       "      <td>13</td>\n",
       "      <td>239.8769</td>\n",
       "    </tr>\n",
       "  </tbody>\n",
       "</table>\n",
       "</div>"
      ],
      "text/plain": [
       "                                  recency    T  frequency  monetary\n",
       "customer_id                                                        \n",
       "0015a82c2db000af6aaaf3ae2ecb0532   3.0000  343          3  916.0200\n",
       "001cca7ae9ae17fb1caed9dfb1094831  74.7143  577        200  241.7461\n",
       "002100f778ceb8431b7a1020ff7ab48f  30.0000  355         51   47.9537\n",
       "004c9cd9d87a3c30c522c48c4fc07416  65.8571  585        158  176.0149\n",
       "00720abe85ba0859807595bbf045a33b  26.8571  220         13  239.8769"
      ]
     },
     "execution_count": 25,
     "metadata": {},
     "output_type": "execute_result"
    }
   ],
   "source": [
    "cltv_df.head()"
   ]
  },
  {
   "cell_type": "code",
   "execution_count": 26,
   "id": "14225cfd",
   "metadata": {
    "execution": {
     "iopub.execute_input": "2023-06-13T23:27:39.887663Z",
     "iopub.status.busy": "2023-06-13T23:27:39.886818Z",
     "iopub.status.idle": "2023-06-13T23:27:39.892831Z",
     "shell.execute_reply": "2023-06-13T23:27:39.891861Z"
    },
    "papermill": {
     "duration": 0.029842,
     "end_time": "2023-06-13T23:27:39.895628",
     "exception": false,
     "start_time": "2023-06-13T23:27:39.865786",
     "status": "completed"
    },
    "tags": []
   },
   "outputs": [],
   "source": [
    "# We translated the age of the customer on a weekly basis.\n",
    "\n",
    "cltv_df[\"T\"] = cltv_df[\"T\"] / 7"
   ]
  },
  {
   "cell_type": "code",
   "execution_count": 27,
   "id": "478faf6c",
   "metadata": {
    "execution": {
     "iopub.execute_input": "2023-06-13T23:27:39.937198Z",
     "iopub.status.busy": "2023-06-13T23:27:39.936486Z",
     "iopub.status.idle": "2023-06-13T23:27:39.949531Z",
     "shell.execute_reply": "2023-06-13T23:27:39.948317Z"
    },
    "papermill": {
     "duration": 0.03696,
     "end_time": "2023-06-13T23:27:39.952361",
     "exception": false,
     "start_time": "2023-06-13T23:27:39.915401",
     "status": "completed"
    },
    "tags": []
   },
   "outputs": [
    {
     "data": {
      "text/html": [
       "<div>\n",
       "<style scoped>\n",
       "    .dataframe tbody tr th:only-of-type {\n",
       "        vertical-align: middle;\n",
       "    }\n",
       "\n",
       "    .dataframe tbody tr th {\n",
       "        vertical-align: top;\n",
       "    }\n",
       "\n",
       "    .dataframe thead th {\n",
       "        text-align: right;\n",
       "    }\n",
       "</style>\n",
       "<table border=\"1\" class=\"dataframe\">\n",
       "  <thead>\n",
       "    <tr style=\"text-align: right;\">\n",
       "      <th></th>\n",
       "      <th>recency</th>\n",
       "      <th>T</th>\n",
       "      <th>frequency</th>\n",
       "      <th>monetary</th>\n",
       "    </tr>\n",
       "    <tr>\n",
       "      <th>customer_id</th>\n",
       "      <th></th>\n",
       "      <th></th>\n",
       "      <th></th>\n",
       "      <th></th>\n",
       "    </tr>\n",
       "  </thead>\n",
       "  <tbody>\n",
       "    <tr>\n",
       "      <th>0015a82c2db000af6aaaf3ae2ecb0532</th>\n",
       "      <td>3.0000</td>\n",
       "      <td>49.0000</td>\n",
       "      <td>3</td>\n",
       "      <td>916.0200</td>\n",
       "    </tr>\n",
       "    <tr>\n",
       "      <th>001cca7ae9ae17fb1caed9dfb1094831</th>\n",
       "      <td>74.7143</td>\n",
       "      <td>82.4286</td>\n",
       "      <td>200</td>\n",
       "      <td>241.7461</td>\n",
       "    </tr>\n",
       "    <tr>\n",
       "      <th>002100f778ceb8431b7a1020ff7ab48f</th>\n",
       "      <td>30.0000</td>\n",
       "      <td>50.7143</td>\n",
       "      <td>51</td>\n",
       "      <td>47.9537</td>\n",
       "    </tr>\n",
       "    <tr>\n",
       "      <th>004c9cd9d87a3c30c522c48c4fc07416</th>\n",
       "      <td>65.8571</td>\n",
       "      <td>83.5714</td>\n",
       "      <td>158</td>\n",
       "      <td>176.0149</td>\n",
       "    </tr>\n",
       "    <tr>\n",
       "      <th>00720abe85ba0859807595bbf045a33b</th>\n",
       "      <td>26.8571</td>\n",
       "      <td>31.4286</td>\n",
       "      <td>13</td>\n",
       "      <td>239.8769</td>\n",
       "    </tr>\n",
       "  </tbody>\n",
       "</table>\n",
       "</div>"
      ],
      "text/plain": [
       "                                  recency       T  frequency  monetary\n",
       "customer_id                                                           \n",
       "0015a82c2db000af6aaaf3ae2ecb0532   3.0000 49.0000          3  916.0200\n",
       "001cca7ae9ae17fb1caed9dfb1094831  74.7143 82.4286        200  241.7461\n",
       "002100f778ceb8431b7a1020ff7ab48f  30.0000 50.7143         51   47.9537\n",
       "004c9cd9d87a3c30c522c48c4fc07416  65.8571 83.5714        158  176.0149\n",
       "00720abe85ba0859807595bbf045a33b  26.8571 31.4286         13  239.8769"
      ]
     },
     "execution_count": 27,
     "metadata": {},
     "output_type": "execute_result"
    }
   ],
   "source": [
    "cltv_df.head()"
   ]
  },
  {
   "cell_type": "markdown",
   "id": "ffaf1dd6",
   "metadata": {
    "papermill": {
     "duration": 0.01992,
     "end_time": "2023-06-13T23:27:39.991697",
     "exception": false,
     "start_time": "2023-06-13T23:27:39.971777",
     "status": "completed"
    },
    "tags": []
   },
   "source": [
    "# Establishment of BG-NBD Model"
   ]
  },
  {
   "cell_type": "code",
   "execution_count": 28,
   "id": "5582e888",
   "metadata": {
    "execution": {
     "iopub.execute_input": "2023-06-13T23:27:40.034694Z",
     "iopub.status.busy": "2023-06-13T23:27:40.034165Z",
     "iopub.status.idle": "2023-06-13T23:27:40.039690Z",
     "shell.execute_reply": "2023-06-13T23:27:40.038476Z"
    },
    "papermill": {
     "duration": 0.029617,
     "end_time": "2023-06-13T23:27:40.042371",
     "exception": false,
     "start_time": "2023-06-13T23:27:40.012754",
     "status": "completed"
    },
    "tags": []
   },
   "outputs": [],
   "source": [
    "# Created model object\n",
    "\n",
    "bgf = BetaGeoFitter(penalizer_coef=0.001)"
   ]
  },
  {
   "cell_type": "code",
   "execution_count": 29,
   "id": "63f33af9",
   "metadata": {
    "execution": {
     "iopub.execute_input": "2023-06-13T23:27:40.084903Z",
     "iopub.status.busy": "2023-06-13T23:27:40.083998Z",
     "iopub.status.idle": "2023-06-13T23:27:40.293673Z",
     "shell.execute_reply": "2023-06-13T23:27:40.292077Z"
    },
    "papermill": {
     "duration": 0.235451,
     "end_time": "2023-06-13T23:27:40.298245",
     "exception": false,
     "start_time": "2023-06-13T23:27:40.062794",
     "status": "completed"
    },
    "tags": []
   },
   "outputs": [
    {
     "data": {
      "text/plain": [
       "<lifetimes.BetaGeoFitter: fitted with 2524 subjects, a: 0.34, alpha: 0.80, b: 4.36, r: 0.88>"
      ]
     },
     "execution_count": 29,
     "metadata": {},
     "output_type": "execute_result"
    }
   ],
   "source": [
    "# Model fitting\n",
    "\n",
    "bgf.fit(cltv_df['frequency'],\n",
    "        cltv_df['recency'],\n",
    "        cltv_df['T'])"
   ]
  },
  {
   "cell_type": "markdown",
   "id": "c3cf9f78",
   "metadata": {
    "papermill": {
     "duration": 0.04179,
     "end_time": "2023-06-13T23:27:40.381491",
     "exception": false,
     "start_time": "2023-06-13T23:27:40.339701",
     "status": "completed"
    },
    "tags": []
   },
   "source": [
    "# Who are the customers we expect to purchase the most during the week?"
   ]
  },
  {
   "cell_type": "code",
   "execution_count": 30,
   "id": "04397d72",
   "metadata": {
    "execution": {
     "iopub.execute_input": "2023-06-13T23:27:40.435530Z",
     "iopub.status.busy": "2023-06-13T23:27:40.435073Z",
     "iopub.status.idle": "2023-06-13T23:27:40.450951Z",
     "shell.execute_reply": "2023-06-13T23:27:40.449203Z"
    },
    "papermill": {
     "duration": 0.0401,
     "end_time": "2023-06-13T23:27:40.454153",
     "exception": false,
     "start_time": "2023-06-13T23:27:40.414053",
     "status": "completed"
    },
    "tags": []
   },
   "outputs": [],
   "source": [
    "cltv_df[\"expected_purc_4_weeks\"] = bgf.predict(4,\n",
    "                                              cltv_df['frequency'],\n",
    "                                              cltv_df['recency'],\n",
    "                                              cltv_df['T'])"
   ]
  },
  {
   "cell_type": "code",
   "execution_count": 31,
   "id": "17c58d4d",
   "metadata": {
    "execution": {
     "iopub.execute_input": "2023-06-13T23:27:40.496792Z",
     "iopub.status.busy": "2023-06-13T23:27:40.496320Z",
     "iopub.status.idle": "2023-06-13T23:27:40.510040Z",
     "shell.execute_reply": "2023-06-13T23:27:40.508767Z"
    },
    "papermill": {
     "duration": 0.038806,
     "end_time": "2023-06-13T23:27:40.512670",
     "exception": false,
     "start_time": "2023-06-13T23:27:40.473864",
     "status": "completed"
    },
    "tags": []
   },
   "outputs": [
    {
     "data": {
      "text/html": [
       "<div>\n",
       "<style scoped>\n",
       "    .dataframe tbody tr th:only-of-type {\n",
       "        vertical-align: middle;\n",
       "    }\n",
       "\n",
       "    .dataframe tbody tr th {\n",
       "        vertical-align: top;\n",
       "    }\n",
       "\n",
       "    .dataframe thead th {\n",
       "        text-align: right;\n",
       "    }\n",
       "</style>\n",
       "<table border=\"1\" class=\"dataframe\">\n",
       "  <thead>\n",
       "    <tr style=\"text-align: right;\">\n",
       "      <th></th>\n",
       "      <th>recency</th>\n",
       "      <th>T</th>\n",
       "      <th>frequency</th>\n",
       "      <th>monetary</th>\n",
       "      <th>expected_purc_4_weeks</th>\n",
       "    </tr>\n",
       "    <tr>\n",
       "      <th>customer_id</th>\n",
       "      <th></th>\n",
       "      <th></th>\n",
       "      <th></th>\n",
       "      <th></th>\n",
       "      <th></th>\n",
       "    </tr>\n",
       "  </thead>\n",
       "  <tbody>\n",
       "    <tr>\n",
       "      <th>0015a82c2db000af6aaaf3ae2ecb0532</th>\n",
       "      <td>3.0000</td>\n",
       "      <td>49.0000</td>\n",
       "      <td>3</td>\n",
       "      <td>916.0200</td>\n",
       "      <td>0.0003</td>\n",
       "    </tr>\n",
       "    <tr>\n",
       "      <th>001cca7ae9ae17fb1caed9dfb1094831</th>\n",
       "      <td>74.7143</td>\n",
       "      <td>82.4286</td>\n",
       "      <td>200</td>\n",
       "      <td>241.7461</td>\n",
       "      <td>0.0000</td>\n",
       "    </tr>\n",
       "    <tr>\n",
       "      <th>002100f778ceb8431b7a1020ff7ab48f</th>\n",
       "      <td>30.0000</td>\n",
       "      <td>50.7143</td>\n",
       "      <td>51</td>\n",
       "      <td>47.9537</td>\n",
       "      <td>0.0000</td>\n",
       "    </tr>\n",
       "    <tr>\n",
       "      <th>004c9cd9d87a3c30c522c48c4fc07416</th>\n",
       "      <td>65.8571</td>\n",
       "      <td>83.5714</td>\n",
       "      <td>158</td>\n",
       "      <td>176.0149</td>\n",
       "      <td>0.0000</td>\n",
       "    </tr>\n",
       "    <tr>\n",
       "      <th>00720abe85ba0859807595bbf045a33b</th>\n",
       "      <td>26.8571</td>\n",
       "      <td>31.4286</td>\n",
       "      <td>13</td>\n",
       "      <td>239.8769</td>\n",
       "      <td>1.4455</td>\n",
       "    </tr>\n",
       "  </tbody>\n",
       "</table>\n",
       "</div>"
      ],
      "text/plain": [
       "                                  recency       T  frequency  monetary  \\\n",
       "customer_id                                                              \n",
       "0015a82c2db000af6aaaf3ae2ecb0532   3.0000 49.0000          3  916.0200   \n",
       "001cca7ae9ae17fb1caed9dfb1094831  74.7143 82.4286        200  241.7461   \n",
       "002100f778ceb8431b7a1020ff7ab48f  30.0000 50.7143         51   47.9537   \n",
       "004c9cd9d87a3c30c522c48c4fc07416  65.8571 83.5714        158  176.0149   \n",
       "00720abe85ba0859807595bbf045a33b  26.8571 31.4286         13  239.8769   \n",
       "\n",
       "                                  expected_purc_4_weeks  \n",
       "customer_id                                              \n",
       "0015a82c2db000af6aaaf3ae2ecb0532                 0.0003  \n",
       "001cca7ae9ae17fb1caed9dfb1094831                 0.0000  \n",
       "002100f778ceb8431b7a1020ff7ab48f                 0.0000  \n",
       "004c9cd9d87a3c30c522c48c4fc07416                 0.0000  \n",
       "00720abe85ba0859807595bbf045a33b                 1.4455  "
      ]
     },
     "execution_count": 31,
     "metadata": {},
     "output_type": "execute_result"
    }
   ],
   "source": [
    "cltv_df.head()"
   ]
  },
  {
   "cell_type": "code",
   "execution_count": 32,
   "id": "37708632",
   "metadata": {
    "execution": {
     "iopub.execute_input": "2023-06-13T23:27:40.556286Z",
     "iopub.status.busy": "2023-06-13T23:27:40.555179Z",
     "iopub.status.idle": "2023-06-13T23:27:40.572363Z",
     "shell.execute_reply": "2023-06-13T23:27:40.570942Z"
    },
    "papermill": {
     "duration": 0.042122,
     "end_time": "2023-06-13T23:27:40.575271",
     "exception": false,
     "start_time": "2023-06-13T23:27:40.533149",
     "status": "completed"
    },
    "tags": []
   },
   "outputs": [
    {
     "data": {
      "text/html": [
       "<div>\n",
       "<style scoped>\n",
       "    .dataframe tbody tr th:only-of-type {\n",
       "        vertical-align: middle;\n",
       "    }\n",
       "\n",
       "    .dataframe tbody tr th {\n",
       "        vertical-align: top;\n",
       "    }\n",
       "\n",
       "    .dataframe thead th {\n",
       "        text-align: right;\n",
       "    }\n",
       "</style>\n",
       "<table border=\"1\" class=\"dataframe\">\n",
       "  <thead>\n",
       "    <tr style=\"text-align: right;\">\n",
       "      <th></th>\n",
       "      <th>recency</th>\n",
       "      <th>T</th>\n",
       "      <th>frequency</th>\n",
       "      <th>monetary</th>\n",
       "      <th>expected_purc_4_weeks</th>\n",
       "    </tr>\n",
       "    <tr>\n",
       "      <th>customer_id</th>\n",
       "      <th></th>\n",
       "      <th></th>\n",
       "      <th></th>\n",
       "      <th></th>\n",
       "      <th></th>\n",
       "    </tr>\n",
       "  </thead>\n",
       "  <tbody>\n",
       "    <tr>\n",
       "      <th>fa1c13f2614d7b5c4749cbc52fecda94</th>\n",
       "      <td>85.4286</td>\n",
       "      <td>86.4286</td>\n",
       "      <td>585</td>\n",
       "      <td>353.0141</td>\n",
       "      <td>17.8860</td>\n",
       "    </tr>\n",
       "    <tr>\n",
       "      <th>2a84855fd20af891be03bc5924d2b453</th>\n",
       "      <td>34.8571</td>\n",
       "      <td>35.7143</td>\n",
       "      <td>164</td>\n",
       "      <td>126.5840</td>\n",
       "      <td>16.1232</td>\n",
       "    </tr>\n",
       "    <tr>\n",
       "      <th>9f505651f4a6abe901a56cdc21508025</th>\n",
       "      <td>46.8571</td>\n",
       "      <td>47.7143</td>\n",
       "      <td>397</td>\n",
       "      <td>92.7736</td>\n",
       "      <td>16.0996</td>\n",
       "    </tr>\n",
       "    <tr>\n",
       "      <th>4e922959ae960d389249c378d1c939f5</th>\n",
       "      <td>98.1429</td>\n",
       "      <td>99.1429</td>\n",
       "      <td>420</td>\n",
       "      <td>145.4073</td>\n",
       "      <td>15.8664</td>\n",
       "    </tr>\n",
       "    <tr>\n",
       "      <th>16090f2ca825584b5a147ab24aa30c86</th>\n",
       "      <td>81.8571</td>\n",
       "      <td>83.0000</td>\n",
       "      <td>402</td>\n",
       "      <td>79.6411</td>\n",
       "      <td>15.7738</td>\n",
       "    </tr>\n",
       "  </tbody>\n",
       "</table>\n",
       "</div>"
      ],
      "text/plain": [
       "                                  recency       T  frequency  monetary  \\\n",
       "customer_id                                                              \n",
       "fa1c13f2614d7b5c4749cbc52fecda94  85.4286 86.4286        585  353.0141   \n",
       "2a84855fd20af891be03bc5924d2b453  34.8571 35.7143        164  126.5840   \n",
       "9f505651f4a6abe901a56cdc21508025  46.8571 47.7143        397   92.7736   \n",
       "4e922959ae960d389249c378d1c939f5  98.1429 99.1429        420  145.4073   \n",
       "16090f2ca825584b5a147ab24aa30c86  81.8571 83.0000        402   79.6411   \n",
       "\n",
       "                                  expected_purc_4_weeks  \n",
       "customer_id                                              \n",
       "fa1c13f2614d7b5c4749cbc52fecda94                17.8860  \n",
       "2a84855fd20af891be03bc5924d2b453                16.1232  \n",
       "9f505651f4a6abe901a56cdc21508025                16.0996  \n",
       "4e922959ae960d389249c378d1c939f5                15.8664  \n",
       "16090f2ca825584b5a147ab24aa30c86                15.7738  "
      ]
     },
     "execution_count": 32,
     "metadata": {},
     "output_type": "execute_result"
    }
   ],
   "source": [
    "cltv_df.sort_values(by='expected_purc_4_weeks', ascending=False).head()"
   ]
  },
  {
   "cell_type": "markdown",
   "id": "c8b4e4d1",
   "metadata": {
    "papermill": {
     "duration": 0.019958,
     "end_time": "2023-06-13T23:27:40.615561",
     "exception": false,
     "start_time": "2023-06-13T23:27:40.595603",
     "status": "completed"
    },
    "tags": []
   },
   "source": [
    "# Evaluation of Forecast Results\n"
   ]
  },
  {
   "cell_type": "code",
   "execution_count": 33,
   "id": "3c87777b",
   "metadata": {
    "execution": {
     "iopub.execute_input": "2023-06-13T23:27:40.659271Z",
     "iopub.status.busy": "2023-06-13T23:27:40.658427Z",
     "iopub.status.idle": "2023-06-13T23:27:42.837635Z",
     "shell.execute_reply": "2023-06-13T23:27:42.836559Z"
    },
    "papermill": {
     "duration": 2.203967,
     "end_time": "2023-06-13T23:27:42.840127",
     "exception": false,
     "start_time": "2023-06-13T23:27:40.636160",
     "status": "completed"
    },
    "tags": []
   },
   "outputs": [
    {
     "data": {
      "image/png": "[encoded data removed]",
      "text/plain": [
       "<Figure size 640x480 with 1 Axes>"
      ]
     },
     "metadata": {},
     "output_type": "display_data"
    }
   ],
   "source": [
    "plot_period_transactions(bgf)\n",
    "plt.show(block=True)"
   ]
  },
  {
   "cell_type": "markdown",
   "id": "99de1c27",
   "metadata": {
    "papermill": {
     "duration": 0.02143,
     "end_time": "2023-06-13T23:27:42.883123",
     "exception": false,
     "start_time": "2023-06-13T23:27:42.861693",
     "status": "completed"
    },
    "tags": []
   },
   "source": [
    "# Establishing the GAMMA-GAMMA Model"
   ]
  },
  {
   "cell_type": "code",
   "execution_count": 34,
   "id": "5ff0d174",
   "metadata": {
    "execution": {
     "iopub.execute_input": "2023-06-13T23:27:42.928012Z",
     "iopub.status.busy": "2023-06-13T23:27:42.927146Z",
     "iopub.status.idle": "2023-06-13T23:27:42.932325Z",
     "shell.execute_reply": "2023-06-13T23:27:42.931152Z"
    },
    "papermill": {
     "duration": 0.030881,
     "end_time": "2023-06-13T23:27:42.935040",
     "exception": false,
     "start_time": "2023-06-13T23:27:42.904159",
     "status": "completed"
    },
    "tags": []
   },
   "outputs": [],
   "source": [
    "# Created model object\n",
    "\n",
    "ggf = GammaGammaFitter(penalizer_coef=0.01)"
   ]
  },
  {
   "cell_type": "code",
   "execution_count": 35,
   "id": "4bc6695e",
   "metadata": {
    "execution": {
     "iopub.execute_input": "2023-06-13T23:27:42.979078Z",
     "iopub.status.busy": "2023-06-13T23:27:42.978528Z",
     "iopub.status.idle": "2023-06-13T23:27:43.053070Z",
     "shell.execute_reply": "2023-06-13T23:27:43.051359Z"
    },
    "papermill": {
     "duration": 0.101358,
     "end_time": "2023-06-13T23:27:43.057441",
     "exception": false,
     "start_time": "2023-06-13T23:27:42.956083",
     "status": "completed"
    },
    "tags": []
   },
   "outputs": [
    {
     "data": {
      "text/plain": [
       "<lifetimes.GammaGammaFitter: fitted with 2524 subjects, p: 3.88, q: 0.41, v: 3.84>"
      ]
     },
     "execution_count": 35,
     "metadata": {},
     "output_type": "execute_result"
    }
   ],
   "source": [
    "# Model fitting\n",
    "\n",
    "ggf.fit(cltv_df['frequency'], cltv_df['monetary'])"
   ]
  },
  {
   "cell_type": "code",
   "execution_count": 36,
   "id": "5c5811db",
   "metadata": {
    "execution": {
     "iopub.execute_input": "2023-06-13T23:27:43.152307Z",
     "iopub.status.busy": "2023-06-13T23:27:43.150890Z",
     "iopub.status.idle": "2023-06-13T23:27:43.164085Z",
     "shell.execute_reply": "2023-06-13T23:27:43.163045Z"
    },
    "papermill": {
     "duration": 0.063843,
     "end_time": "2023-06-13T23:27:43.166876",
     "exception": false,
     "start_time": "2023-06-13T23:27:43.103033",
     "status": "completed"
    },
    "tags": []
   },
   "outputs": [],
   "source": [
    "# Expected average profit\n",
    "\n",
    "cltv_df[\"expected_average_profit\"] = ggf.conditional_expected_average_profit(cltv_df['frequency'],\n",
    "                                                                             cltv_df['monetary'])"
   ]
  },
  {
   "cell_type": "markdown",
   "id": "93634e65",
   "metadata": {
    "papermill": {
     "duration": 0.020421,
     "end_time": "2023-06-13T23:27:43.208126",
     "exception": false,
     "start_time": "2023-06-13T23:27:43.187705",
     "status": "completed"
    },
    "tags": []
   },
   "source": [
    "# Calculation of CLTV with BG-NBD and GG model"
   ]
  },
  {
   "cell_type": "code",
   "execution_count": 37,
   "id": "34354755",
   "metadata": {
    "execution": {
     "iopub.execute_input": "2023-06-13T23:27:43.253390Z",
     "iopub.status.busy": "2023-06-13T23:27:43.252451Z",
     "iopub.status.idle": "2023-06-13T23:27:43.313966Z",
     "shell.execute_reply": "2023-06-13T23:27:43.312791Z"
    },
    "papermill": {
     "duration": 0.087166,
     "end_time": "2023-06-13T23:27:43.316876",
     "exception": false,
     "start_time": "2023-06-13T23:27:43.229710",
     "status": "completed"
    },
    "tags": []
   },
   "outputs": [],
   "source": [
    "cltv_df[\"clv\"] = ggf.customer_lifetime_value(bgf,\n",
    "                                   cltv_df['frequency'],\n",
    "                                   cltv_df['recency'],\n",
    "                                   cltv_df['T'],\n",
    "                                   cltv_df['monetary'],\n",
    "                                   time=3,  # 3 months\n",
    "                                   freq=\"W\",  # Frequency information of T\n",
    "                                   discount_rate=0.01)"
   ]
  },
  {
   "cell_type": "code",
   "execution_count": 38,
   "id": "151d328a",
   "metadata": {
    "execution": {
     "iopub.execute_input": "2023-06-13T23:27:43.362574Z",
     "iopub.status.busy": "2023-06-13T23:27:43.361691Z",
     "iopub.status.idle": "2023-06-13T23:27:43.368232Z",
     "shell.execute_reply": "2023-06-13T23:27:43.367178Z"
    },
    "papermill": {
     "duration": 0.032256,
     "end_time": "2023-06-13T23:27:43.370863",
     "exception": false,
     "start_time": "2023-06-13T23:27:43.338607",
     "status": "completed"
    },
    "tags": []
   },
   "outputs": [],
   "source": [
    "cltv_df = cltv_df.reset_index()"
   ]
  },
  {
   "cell_type": "code",
   "execution_count": 39,
   "id": "d7e13c9c",
   "metadata": {
    "execution": {
     "iopub.execute_input": "2023-06-13T23:27:43.415894Z",
     "iopub.status.busy": "2023-06-13T23:27:43.415429Z",
     "iopub.status.idle": "2023-06-13T23:27:43.431611Z",
     "shell.execute_reply": "2023-06-13T23:27:43.430170Z"
    },
    "papermill": {
     "duration": 0.042363,
     "end_time": "2023-06-13T23:27:43.434250",
     "exception": false,
     "start_time": "2023-06-13T23:27:43.391887",
     "status": "completed"
    },
    "tags": []
   },
   "outputs": [
    {
     "data": {
      "text/html": [
       "<div>\n",
       "<style scoped>\n",
       "    .dataframe tbody tr th:only-of-type {\n",
       "        vertical-align: middle;\n",
       "    }\n",
       "\n",
       "    .dataframe tbody tr th {\n",
       "        vertical-align: top;\n",
       "    }\n",
       "\n",
       "    .dataframe thead th {\n",
       "        text-align: right;\n",
       "    }\n",
       "</style>\n",
       "<table border=\"1\" class=\"dataframe\">\n",
       "  <thead>\n",
       "    <tr style=\"text-align: right;\">\n",
       "      <th></th>\n",
       "      <th>customer_id</th>\n",
       "      <th>recency</th>\n",
       "      <th>T</th>\n",
       "      <th>frequency</th>\n",
       "      <th>monetary</th>\n",
       "      <th>expected_purc_4_weeks</th>\n",
       "      <th>expected_average_profit</th>\n",
       "      <th>clv</th>\n",
       "    </tr>\n",
       "  </thead>\n",
       "  <tbody>\n",
       "    <tr>\n",
       "      <th>0</th>\n",
       "      <td>0015a82c2db000af6aaaf3ae2ecb0532</td>\n",
       "      <td>3.0000</td>\n",
       "      <td>49.0000</td>\n",
       "      <td>3</td>\n",
       "      <td>916.0200</td>\n",
       "      <td>0.0003</td>\n",
       "      <td>966.2073</td>\n",
       "      <td>0.8196</td>\n",
       "    </tr>\n",
       "    <tr>\n",
       "      <th>1</th>\n",
       "      <td>001cca7ae9ae17fb1caed9dfb1094831</td>\n",
       "      <td>74.7143</td>\n",
       "      <td>82.4286</td>\n",
       "      <td>200</td>\n",
       "      <td>241.7461</td>\n",
       "      <td>0.0000</td>\n",
       "      <td>241.9490</td>\n",
       "      <td>0.0144</td>\n",
       "    </tr>\n",
       "    <tr>\n",
       "      <th>2</th>\n",
       "      <td>002100f778ceb8431b7a1020ff7ab48f</td>\n",
       "      <td>30.0000</td>\n",
       "      <td>50.7143</td>\n",
       "      <td>51</td>\n",
       "      <td>47.9537</td>\n",
       "      <td>0.0000</td>\n",
       "      <td>48.1724</td>\n",
       "      <td>0.0000</td>\n",
       "    </tr>\n",
       "    <tr>\n",
       "      <th>3</th>\n",
       "      <td>004c9cd9d87a3c30c522c48c4fc07416</td>\n",
       "      <td>65.8571</td>\n",
       "      <td>83.5714</td>\n",
       "      <td>158</td>\n",
       "      <td>176.0149</td>\n",
       "      <td>0.0000</td>\n",
       "      <td>176.2085</td>\n",
       "      <td>0.0000</td>\n",
       "    </tr>\n",
       "    <tr>\n",
       "      <th>4</th>\n",
       "      <td>00720abe85ba0859807595bbf045a33b</td>\n",
       "      <td>26.8571</td>\n",
       "      <td>31.4286</td>\n",
       "      <td>13</td>\n",
       "      <td>239.8769</td>\n",
       "      <td>1.4455</td>\n",
       "      <td>243.0107</td>\n",
       "      <td>1084.6604</td>\n",
       "    </tr>\n",
       "  </tbody>\n",
       "</table>\n",
       "</div>"
      ],
      "text/plain": [
       "                        customer_id  recency       T  frequency  monetary  \\\n",
       "0  0015a82c2db000af6aaaf3ae2ecb0532   3.0000 49.0000          3  916.0200   \n",
       "1  001cca7ae9ae17fb1caed9dfb1094831  74.7143 82.4286        200  241.7461   \n",
       "2  002100f778ceb8431b7a1020ff7ab48f  30.0000 50.7143         51   47.9537   \n",
       "3  004c9cd9d87a3c30c522c48c4fc07416  65.8571 83.5714        158  176.0149   \n",
       "4  00720abe85ba0859807595bbf045a33b  26.8571 31.4286         13  239.8769   \n",
       "\n",
       "   expected_purc_4_weeks  expected_average_profit       clv  \n",
       "0                 0.0003                 966.2073    0.8196  \n",
       "1                 0.0000                 241.9490    0.0144  \n",
       "2                 0.0000                  48.1724    0.0000  \n",
       "3                 0.0000                 176.2085    0.0000  \n",
       "4                 1.4455                 243.0107 1084.6604  "
      ]
     },
     "execution_count": 39,
     "metadata": {},
     "output_type": "execute_result"
    }
   ],
   "source": [
    "cltv_df.head()"
   ]
  },
  {
   "cell_type": "markdown",
   "id": "b5cc92fd",
   "metadata": {
    "papermill": {
     "duration": 0.022655,
     "end_time": "2023-06-13T23:27:43.478676",
     "exception": false,
     "start_time": "2023-06-13T23:27:43.456021",
     "status": "completed"
    },
    "tags": []
   },
   "source": [
    "# Creation of Segments According to CLTV"
   ]
  },
  {
   "cell_type": "code",
   "execution_count": 40,
   "id": "4d8401df",
   "metadata": {
    "execution": {
     "iopub.execute_input": "2023-06-13T23:27:43.524806Z",
     "iopub.status.busy": "2023-06-13T23:27:43.523174Z",
     "iopub.status.idle": "2023-06-13T23:27:43.533957Z",
     "shell.execute_reply": "2023-06-13T23:27:43.532555Z"
    },
    "papermill": {
     "duration": 0.036639,
     "end_time": "2023-06-13T23:27:43.537054",
     "exception": false,
     "start_time": "2023-06-13T23:27:43.500415",
     "status": "completed"
    },
    "tags": []
   },
   "outputs": [],
   "source": [
    "# We divided all our 6-month-old customers into 4 groups (segments) and added the group names to the data set.\n",
    "\n",
    "cltv_df[\"cltv_segment\"] = pd.qcut(cltv_df[\"clv\"], 4, labels=[\"D\", \"C\", \"B\", \"A\"])"
   ]
  },
  {
   "cell_type": "code",
   "execution_count": 41,
   "id": "19ef5bff",
   "metadata": {
    "execution": {
     "iopub.execute_input": "2023-06-13T23:27:43.581876Z",
     "iopub.status.busy": "2023-06-13T23:27:43.581372Z",
     "iopub.status.idle": "2023-06-13T23:27:43.597213Z",
     "shell.execute_reply": "2023-06-13T23:27:43.596037Z"
    },
    "papermill": {
     "duration": 0.041435,
     "end_time": "2023-06-13T23:27:43.599719",
     "exception": false,
     "start_time": "2023-06-13T23:27:43.558284",
     "status": "completed"
    },
    "tags": []
   },
   "outputs": [
    {
     "data": {
      "text/html": [
       "<div>\n",
       "<style scoped>\n",
       "    .dataframe tbody tr th:only-of-type {\n",
       "        vertical-align: middle;\n",
       "    }\n",
       "\n",
       "    .dataframe tbody tr th {\n",
       "        vertical-align: top;\n",
       "    }\n",
       "\n",
       "    .dataframe thead th {\n",
       "        text-align: right;\n",
       "    }\n",
       "</style>\n",
       "<table border=\"1\" class=\"dataframe\">\n",
       "  <thead>\n",
       "    <tr style=\"text-align: right;\">\n",
       "      <th></th>\n",
       "      <th>customer_id</th>\n",
       "      <th>recency</th>\n",
       "      <th>T</th>\n",
       "      <th>frequency</th>\n",
       "      <th>monetary</th>\n",
       "      <th>expected_purc_4_weeks</th>\n",
       "      <th>expected_average_profit</th>\n",
       "      <th>clv</th>\n",
       "      <th>cltv_segment</th>\n",
       "    </tr>\n",
       "  </thead>\n",
       "  <tbody>\n",
       "    <tr>\n",
       "      <th>0</th>\n",
       "      <td>0015a82c2db000af6aaaf3ae2ecb0532</td>\n",
       "      <td>3.0000</td>\n",
       "      <td>49.0000</td>\n",
       "      <td>3</td>\n",
       "      <td>916.0200</td>\n",
       "      <td>0.0003</td>\n",
       "      <td>966.2073</td>\n",
       "      <td>0.8196</td>\n",
       "      <td>D</td>\n",
       "    </tr>\n",
       "    <tr>\n",
       "      <th>1</th>\n",
       "      <td>001cca7ae9ae17fb1caed9dfb1094831</td>\n",
       "      <td>74.7143</td>\n",
       "      <td>82.4286</td>\n",
       "      <td>200</td>\n",
       "      <td>241.7461</td>\n",
       "      <td>0.0000</td>\n",
       "      <td>241.9490</td>\n",
       "      <td>0.0144</td>\n",
       "      <td>D</td>\n",
       "    </tr>\n",
       "    <tr>\n",
       "      <th>2</th>\n",
       "      <td>002100f778ceb8431b7a1020ff7ab48f</td>\n",
       "      <td>30.0000</td>\n",
       "      <td>50.7143</td>\n",
       "      <td>51</td>\n",
       "      <td>47.9537</td>\n",
       "      <td>0.0000</td>\n",
       "      <td>48.1724</td>\n",
       "      <td>0.0000</td>\n",
       "      <td>D</td>\n",
       "    </tr>\n",
       "    <tr>\n",
       "      <th>3</th>\n",
       "      <td>004c9cd9d87a3c30c522c48c4fc07416</td>\n",
       "      <td>65.8571</td>\n",
       "      <td>83.5714</td>\n",
       "      <td>158</td>\n",
       "      <td>176.0149</td>\n",
       "      <td>0.0000</td>\n",
       "      <td>176.2085</td>\n",
       "      <td>0.0000</td>\n",
       "      <td>D</td>\n",
       "    </tr>\n",
       "    <tr>\n",
       "      <th>4</th>\n",
       "      <td>00720abe85ba0859807595bbf045a33b</td>\n",
       "      <td>26.8571</td>\n",
       "      <td>31.4286</td>\n",
       "      <td>13</td>\n",
       "      <td>239.8769</td>\n",
       "      <td>1.4455</td>\n",
       "      <td>243.0107</td>\n",
       "      <td>1084.6604</td>\n",
       "      <td>A</td>\n",
       "    </tr>\n",
       "  </tbody>\n",
       "</table>\n",
       "</div>"
      ],
      "text/plain": [
       "                        customer_id  recency       T  frequency  monetary  \\\n",
       "0  0015a82c2db000af6aaaf3ae2ecb0532   3.0000 49.0000          3  916.0200   \n",
       "1  001cca7ae9ae17fb1caed9dfb1094831  74.7143 82.4286        200  241.7461   \n",
       "2  002100f778ceb8431b7a1020ff7ab48f  30.0000 50.7143         51   47.9537   \n",
       "3  004c9cd9d87a3c30c522c48c4fc07416  65.8571 83.5714        158  176.0149   \n",
       "4  00720abe85ba0859807595bbf045a33b  26.8571 31.4286         13  239.8769   \n",
       "\n",
       "   expected_purc_4_weeks  expected_average_profit       clv cltv_segment  \n",
       "0                 0.0003                 966.2073    0.8196            D  \n",
       "1                 0.0000                 241.9490    0.0144            D  \n",
       "2                 0.0000                  48.1724    0.0000            D  \n",
       "3                 0.0000                 176.2085    0.0000            D  \n",
       "4                 1.4455                 243.0107 1084.6604            A  "
      ]
     },
     "execution_count": 41,
     "metadata": {},
     "output_type": "execute_result"
    }
   ],
   "source": [
    "cltv_df.head()"
   ]
  },
  {
   "cell_type": "code",
   "execution_count": 42,
   "id": "fb98b027",
   "metadata": {
    "execution": {
     "iopub.execute_input": "2023-06-13T23:27:43.646027Z",
     "iopub.status.busy": "2023-06-13T23:27:43.644736Z",
     "iopub.status.idle": "2023-06-13T23:27:43.691172Z",
     "shell.execute_reply": "2023-06-13T23:27:43.690201Z"
    },
    "papermill": {
     "duration": 0.071939,
     "end_time": "2023-06-13T23:27:43.693606",
     "exception": false,
     "start_time": "2023-06-13T23:27:43.621667",
     "status": "completed"
    },
    "tags": []
   },
   "outputs": [
    {
     "data": {
      "text/html": [
       "<div>\n",
       "<style scoped>\n",
       "    .dataframe tbody tr th:only-of-type {\n",
       "        vertical-align: middle;\n",
       "    }\n",
       "\n",
       "    .dataframe tbody tr th {\n",
       "        vertical-align: top;\n",
       "    }\n",
       "\n",
       "    .dataframe thead tr th {\n",
       "        text-align: left;\n",
       "    }\n",
       "\n",
       "    .dataframe thead tr:last-of-type th {\n",
       "        text-align: right;\n",
       "    }\n",
       "</style>\n",
       "<table border=\"1\" class=\"dataframe\">\n",
       "  <thead>\n",
       "    <tr>\n",
       "      <th></th>\n",
       "      <th colspan=\"3\" halign=\"left\">recency</th>\n",
       "      <th colspan=\"3\" halign=\"left\">T</th>\n",
       "      <th colspan=\"3\" halign=\"left\">frequency</th>\n",
       "      <th colspan=\"3\" halign=\"left\">monetary</th>\n",
       "      <th colspan=\"3\" halign=\"left\">expected_purc_4_weeks</th>\n",
       "      <th colspan=\"3\" halign=\"left\">expected_average_profit</th>\n",
       "      <th colspan=\"3\" halign=\"left\">clv</th>\n",
       "    </tr>\n",
       "    <tr>\n",
       "      <th></th>\n",
       "      <th>count</th>\n",
       "      <th>mean</th>\n",
       "      <th>sum</th>\n",
       "      <th>count</th>\n",
       "      <th>mean</th>\n",
       "      <th>sum</th>\n",
       "      <th>count</th>\n",
       "      <th>mean</th>\n",
       "      <th>sum</th>\n",
       "      <th>count</th>\n",
       "      <th>mean</th>\n",
       "      <th>sum</th>\n",
       "      <th>count</th>\n",
       "      <th>mean</th>\n",
       "      <th>sum</th>\n",
       "      <th>count</th>\n",
       "      <th>mean</th>\n",
       "      <th>sum</th>\n",
       "      <th>count</th>\n",
       "      <th>mean</th>\n",
       "      <th>sum</th>\n",
       "    </tr>\n",
       "    <tr>\n",
       "      <th>cltv_segment</th>\n",
       "      <th></th>\n",
       "      <th></th>\n",
       "      <th></th>\n",
       "      <th></th>\n",
       "      <th></th>\n",
       "      <th></th>\n",
       "      <th></th>\n",
       "      <th></th>\n",
       "      <th></th>\n",
       "      <th></th>\n",
       "      <th></th>\n",
       "      <th></th>\n",
       "      <th></th>\n",
       "      <th></th>\n",
       "      <th></th>\n",
       "      <th></th>\n",
       "      <th></th>\n",
       "      <th></th>\n",
       "      <th></th>\n",
       "      <th></th>\n",
       "      <th></th>\n",
       "    </tr>\n",
       "  </thead>\n",
       "  <tbody>\n",
       "    <tr>\n",
       "      <th>D</th>\n",
       "      <td>631</td>\n",
       "      <td>21.3389</td>\n",
       "      <td>13464.8571</td>\n",
       "      <td>631</td>\n",
       "      <td>64.1596</td>\n",
       "      <td>40484.7143</td>\n",
       "      <td>631</td>\n",
       "      <td>54.2013</td>\n",
       "      <td>34201</td>\n",
       "      <td>631</td>\n",
       "      <td>221.7942</td>\n",
       "      <td>139952.1305</td>\n",
       "      <td>631</td>\n",
       "      <td>0.0026</td>\n",
       "      <td>1.6129</td>\n",
       "      <td>631</td>\n",
       "      <td>229.4098</td>\n",
       "      <td>144757.5537</td>\n",
       "      <td>631</td>\n",
       "      <td>0.9260</td>\n",
       "      <td>584.3212</td>\n",
       "    </tr>\n",
       "    <tr>\n",
       "      <th>C</th>\n",
       "      <td>631</td>\n",
       "      <td>27.1487</td>\n",
       "      <td>17130.8571</td>\n",
       "      <td>631</td>\n",
       "      <td>44.1066</td>\n",
       "      <td>27831.2857</td>\n",
       "      <td>631</td>\n",
       "      <td>22.6086</td>\n",
       "      <td>14266</td>\n",
       "      <td>631</td>\n",
       "      <td>211.0606</td>\n",
       "      <td>133179.2676</td>\n",
       "      <td>631</td>\n",
       "      <td>0.3532</td>\n",
       "      <td>222.8535</td>\n",
       "      <td>631</td>\n",
       "      <td>221.0502</td>\n",
       "      <td>139482.7038</td>\n",
       "      <td>631</td>\n",
       "      <td>115.7232</td>\n",
       "      <td>73021.3468</td>\n",
       "    </tr>\n",
       "    <tr>\n",
       "      <th>B</th>\n",
       "      <td>631</td>\n",
       "      <td>31.2699</td>\n",
       "      <td>19731.2857</td>\n",
       "      <td>631</td>\n",
       "      <td>36.3677</td>\n",
       "      <td>22948.0000</td>\n",
       "      <td>631</td>\n",
       "      <td>19.8193</td>\n",
       "      <td>12506</td>\n",
       "      <td>631</td>\n",
       "      <td>230.1761</td>\n",
       "      <td>145241.1473</td>\n",
       "      <td>631</td>\n",
       "      <td>1.4451</td>\n",
       "      <td>911.8871</td>\n",
       "      <td>631</td>\n",
       "      <td>238.9106</td>\n",
       "      <td>150752.5901</td>\n",
       "      <td>631</td>\n",
       "      <td>635.3114</td>\n",
       "      <td>400881.4642</td>\n",
       "    </tr>\n",
       "    <tr>\n",
       "      <th>A</th>\n",
       "      <td>631</td>\n",
       "      <td>43.4544</td>\n",
       "      <td>27419.7143</td>\n",
       "      <td>631</td>\n",
       "      <td>46.5300</td>\n",
       "      <td>29360.4286</td>\n",
       "      <td>631</td>\n",
       "      <td>60.9588</td>\n",
       "      <td>38465</td>\n",
       "      <td>631</td>\n",
       "      <td>483.1096</td>\n",
       "      <td>304842.1477</td>\n",
       "      <td>631</td>\n",
       "      <td>3.5163</td>\n",
       "      <td>2218.7585</td>\n",
       "      <td>631</td>\n",
       "      <td>494.8709</td>\n",
       "      <td>312263.5397</td>\n",
       "      <td>631</td>\n",
       "      <td>2905.3328</td>\n",
       "      <td>1833264.9741</td>\n",
       "    </tr>\n",
       "  </tbody>\n",
       "</table>\n",
       "</div>"
      ],
      "text/plain": [
       "             recency                        T                    frequency  \\\n",
       "               count    mean        sum count    mean        sum     count   \n",
       "cltv_segment                                                                 \n",
       "D                631 21.3389 13464.8571   631 64.1596 40484.7143       631   \n",
       "C                631 27.1487 17130.8571   631 44.1066 27831.2857       631   \n",
       "B                631 31.2699 19731.2857   631 36.3677 22948.0000       631   \n",
       "A                631 43.4544 27419.7143   631 46.5300 29360.4286       631   \n",
       "\n",
       "                            monetary                       \\\n",
       "                mean    sum    count     mean         sum   \n",
       "cltv_segment                                                \n",
       "D            54.2013  34201      631 221.7942 139952.1305   \n",
       "C            22.6086  14266      631 211.0606 133179.2676   \n",
       "B            19.8193  12506      631 230.1761 145241.1473   \n",
       "A            60.9588  38465      631 483.1096 304842.1477   \n",
       "\n",
       "             expected_purc_4_weeks                  expected_average_profit  \\\n",
       "                             count   mean       sum                   count   \n",
       "cltv_segment                                                                  \n",
       "D                              631 0.0026    1.6129                     631   \n",
       "C                              631 0.3532  222.8535                     631   \n",
       "B                              631 1.4451  911.8871                     631   \n",
       "A                              631 3.5163 2218.7585                     631   \n",
       "\n",
       "                                    clv                         \n",
       "                 mean         sum count      mean          sum  \n",
       "cltv_segment                                                    \n",
       "D            229.4098 144757.5537   631    0.9260     584.3212  \n",
       "C            221.0502 139482.7038   631  115.7232   73021.3468  \n",
       "B            238.9106 150752.5901   631  635.3114  400881.4642  \n",
       "A            494.8709 312263.5397   631 2905.3328 1833264.9741  "
      ]
     },
     "execution_count": 42,
     "metadata": {},
     "output_type": "execute_result"
    }
   ],
   "source": [
    "cltv_df.groupby(\"cltv_segment\").agg({\"count\", \"mean\", \"sum\"})"
   ]
  }
 ],
 "metadata": {
  "kernelspec": {
   "display_name": "Python 3",
   "language": "python",
   "name": "python3"
  },
  "language_info": {
   "codemirror_mode": {
    "name": "ipython",
    "version": 3
   },
   "file_extension": ".py",
   "mimetype": "text/x-python",
   "name": "python",
   "nbconvert_exporter": "python",
   "pygments_lexer": "ipython3",
   "version": "3.10.10"
  },
  "papermill": {
   "default_parameters": {},
   "duration": 42.918415,
   "end_time": "2023-06-13T23:27:45.343793",
   "environment_variables": {},
   "exception": null,
   "input_path": "__notebook__.ipynb",
   "output_path": "__notebook__.ipynb",
   "parameters": {},
   "start_time": "2023-06-13T23:27:02.425378",
   "version": "2.4.0"
  }
 },
 "nbformat": 4,
 "nbformat_minor": 5
}
